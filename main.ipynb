{
  "cells": [
    {
      "cell_type": "markdown",
      "metadata": {},
      "source": [
        "# Customer Churn Prediction "
      ]
    },
    {
      "cell_type": "markdown",
      "metadata": {},
      "source": [
        "**Importing**"
      ]
    },
    {
      "cell_type": "code",
      "execution_count": 355,
      "metadata": {
        "id": "e3s8Q6OFGqzH"
      },
      "outputs": [],
      "source": [
        "import numpy as np\n",
        "import pandas as pd\n",
        "import matplotlib.pyplot as plt\n",
        "import seaborn as sns"
      ]
    },
    {
      "cell_type": "code",
      "execution_count": 356,
      "metadata": {},
      "outputs": [],
      "source": [
        "from sklearn.preprocessing import LabelEncoder\n",
        "from imblearn.over_sampling import SMOTE # For over sampling (solving class imbalance issue)\n",
        "from sklearn.model_selection import train_test_split, cross_val_score, StratifiedKFold"
      ]
    },
    {
      "cell_type": "code",
      "execution_count": 357,
      "metadata": {},
      "outputs": [],
      "source": [
        "from sklearn.tree import DecisionTreeClassifier\n",
        "from sklearn.neighbors import KNeighborsClassifier\n",
        "from sklearn.linear_model import LogisticRegression\n",
        "from sklearn.ensemble import RandomForestClassifier\n",
        "from xgboost import XGBClassifier\n",
        "from sklearn.metrics import accuracy_score, confusion_matrix, classification_report\n",
        "import pickle # To save files"
      ]
    },
    {
      "cell_type": "markdown",
      "metadata": {
        "id": "dMg01etGHvua"
      },
      "source": [
        "**Data**"
      ]
    },
    {
      "cell_type": "code",
      "execution_count": 358,
      "metadata": {
        "id": "pKQDAvYRHuN6"
      },
      "outputs": [],
      "source": [
        "df = pd.read_csv(\"Customer-Churn.csv\")"
      ]
    },
    {
      "cell_type": "code",
      "execution_count": 359,
      "metadata": {
        "colab": {
          "base_uri": "https://localhost:8080/"
        },
        "id": "38RRn-9JH-U5",
        "outputId": "d883a455-b3f3-480a-ae94-b1daae237899"
      },
      "outputs": [
        {
          "data": {
            "text/plain": [
              "(7043, 21)"
            ]
          },
          "execution_count": 359,
          "metadata": {},
          "output_type": "execute_result"
        }
      ],
      "source": [
        "df.shape"
      ]
    },
    {
      "cell_type": "code",
      "execution_count": 360,
      "metadata": {
        "colab": {
          "base_uri": "https://localhost:8080/",
          "height": 313
        },
        "id": "9XpNVJlcIB-n",
        "outputId": "cda716cd-0fd8-4019-8d1a-1ff634b5cfe1"
      },
      "outputs": [
        {
          "data": {
            "text/html": [
              "<div>\n",
              "<style scoped>\n",
              "    .dataframe tbody tr th:only-of-type {\n",
              "        vertical-align: middle;\n",
              "    }\n",
              "\n",
              "    .dataframe tbody tr th {\n",
              "        vertical-align: top;\n",
              "    }\n",
              "\n",
              "    .dataframe thead th {\n",
              "        text-align: right;\n",
              "    }\n",
              "</style>\n",
              "<table border=\"1\" class=\"dataframe\">\n",
              "  <thead>\n",
              "    <tr style=\"text-align: right;\">\n",
              "      <th></th>\n",
              "      <th>customerID</th>\n",
              "      <th>gender</th>\n",
              "      <th>SeniorCitizen</th>\n",
              "      <th>Partner</th>\n",
              "      <th>Dependents</th>\n",
              "      <th>tenure</th>\n",
              "      <th>PhoneService</th>\n",
              "      <th>MultipleLines</th>\n",
              "      <th>InternetService</th>\n",
              "      <th>OnlineSecurity</th>\n",
              "      <th>...</th>\n",
              "      <th>DeviceProtection</th>\n",
              "      <th>TechSupport</th>\n",
              "      <th>StreamingTV</th>\n",
              "      <th>StreamingMovies</th>\n",
              "      <th>Contract</th>\n",
              "      <th>PaperlessBilling</th>\n",
              "      <th>PaymentMethod</th>\n",
              "      <th>MonthlyCharges</th>\n",
              "      <th>TotalCharges</th>\n",
              "      <th>Churn</th>\n",
              "    </tr>\n",
              "  </thead>\n",
              "  <tbody>\n",
              "    <tr>\n",
              "      <th>0</th>\n",
              "      <td>7590-VHVEG</td>\n",
              "      <td>Female</td>\n",
              "      <td>0</td>\n",
              "      <td>Yes</td>\n",
              "      <td>No</td>\n",
              "      <td>1</td>\n",
              "      <td>No</td>\n",
              "      <td>No phone service</td>\n",
              "      <td>DSL</td>\n",
              "      <td>No</td>\n",
              "      <td>...</td>\n",
              "      <td>No</td>\n",
              "      <td>No</td>\n",
              "      <td>No</td>\n",
              "      <td>No</td>\n",
              "      <td>Month-to-month</td>\n",
              "      <td>Yes</td>\n",
              "      <td>Electronic check</td>\n",
              "      <td>29.85</td>\n",
              "      <td>29.85</td>\n",
              "      <td>No</td>\n",
              "    </tr>\n",
              "    <tr>\n",
              "      <th>1</th>\n",
              "      <td>5575-GNVDE</td>\n",
              "      <td>Male</td>\n",
              "      <td>0</td>\n",
              "      <td>No</td>\n",
              "      <td>No</td>\n",
              "      <td>34</td>\n",
              "      <td>Yes</td>\n",
              "      <td>No</td>\n",
              "      <td>DSL</td>\n",
              "      <td>Yes</td>\n",
              "      <td>...</td>\n",
              "      <td>Yes</td>\n",
              "      <td>No</td>\n",
              "      <td>No</td>\n",
              "      <td>No</td>\n",
              "      <td>One year</td>\n",
              "      <td>No</td>\n",
              "      <td>Mailed check</td>\n",
              "      <td>56.95</td>\n",
              "      <td>1889.5</td>\n",
              "      <td>No</td>\n",
              "    </tr>\n",
              "    <tr>\n",
              "      <th>2</th>\n",
              "      <td>3668-QPYBK</td>\n",
              "      <td>Male</td>\n",
              "      <td>0</td>\n",
              "      <td>No</td>\n",
              "      <td>No</td>\n",
              "      <td>2</td>\n",
              "      <td>Yes</td>\n",
              "      <td>No</td>\n",
              "      <td>DSL</td>\n",
              "      <td>Yes</td>\n",
              "      <td>...</td>\n",
              "      <td>No</td>\n",
              "      <td>No</td>\n",
              "      <td>No</td>\n",
              "      <td>No</td>\n",
              "      <td>Month-to-month</td>\n",
              "      <td>Yes</td>\n",
              "      <td>Mailed check</td>\n",
              "      <td>53.85</td>\n",
              "      <td>108.15</td>\n",
              "      <td>Yes</td>\n",
              "    </tr>\n",
              "    <tr>\n",
              "      <th>3</th>\n",
              "      <td>7795-CFOCW</td>\n",
              "      <td>Male</td>\n",
              "      <td>0</td>\n",
              "      <td>No</td>\n",
              "      <td>No</td>\n",
              "      <td>45</td>\n",
              "      <td>No</td>\n",
              "      <td>No phone service</td>\n",
              "      <td>DSL</td>\n",
              "      <td>Yes</td>\n",
              "      <td>...</td>\n",
              "      <td>Yes</td>\n",
              "      <td>Yes</td>\n",
              "      <td>No</td>\n",
              "      <td>No</td>\n",
              "      <td>One year</td>\n",
              "      <td>No</td>\n",
              "      <td>Bank transfer (automatic)</td>\n",
              "      <td>42.30</td>\n",
              "      <td>1840.75</td>\n",
              "      <td>No</td>\n",
              "    </tr>\n",
              "    <tr>\n",
              "      <th>4</th>\n",
              "      <td>9237-HQITU</td>\n",
              "      <td>Female</td>\n",
              "      <td>0</td>\n",
              "      <td>No</td>\n",
              "      <td>No</td>\n",
              "      <td>2</td>\n",
              "      <td>Yes</td>\n",
              "      <td>No</td>\n",
              "      <td>Fiber optic</td>\n",
              "      <td>No</td>\n",
              "      <td>...</td>\n",
              "      <td>No</td>\n",
              "      <td>No</td>\n",
              "      <td>No</td>\n",
              "      <td>No</td>\n",
              "      <td>Month-to-month</td>\n",
              "      <td>Yes</td>\n",
              "      <td>Electronic check</td>\n",
              "      <td>70.70</td>\n",
              "      <td>151.65</td>\n",
              "      <td>Yes</td>\n",
              "    </tr>\n",
              "  </tbody>\n",
              "</table>\n",
              "<p>5 rows × 21 columns</p>\n",
              "</div>"
            ],
            "text/plain": [
              "   customerID  gender  SeniorCitizen Partner Dependents  tenure PhoneService  \\\n",
              "0  7590-VHVEG  Female              0     Yes         No       1           No   \n",
              "1  5575-GNVDE    Male              0      No         No      34          Yes   \n",
              "2  3668-QPYBK    Male              0      No         No       2          Yes   \n",
              "3  7795-CFOCW    Male              0      No         No      45           No   \n",
              "4  9237-HQITU  Female              0      No         No       2          Yes   \n",
              "\n",
              "      MultipleLines InternetService OnlineSecurity  ... DeviceProtection  \\\n",
              "0  No phone service             DSL             No  ...               No   \n",
              "1                No             DSL            Yes  ...              Yes   \n",
              "2                No             DSL            Yes  ...               No   \n",
              "3  No phone service             DSL            Yes  ...              Yes   \n",
              "4                No     Fiber optic             No  ...               No   \n",
              "\n",
              "  TechSupport StreamingTV StreamingMovies        Contract PaperlessBilling  \\\n",
              "0          No          No              No  Month-to-month              Yes   \n",
              "1          No          No              No        One year               No   \n",
              "2          No          No              No  Month-to-month              Yes   \n",
              "3         Yes          No              No        One year               No   \n",
              "4          No          No              No  Month-to-month              Yes   \n",
              "\n",
              "               PaymentMethod MonthlyCharges  TotalCharges Churn  \n",
              "0           Electronic check          29.85         29.85    No  \n",
              "1               Mailed check          56.95        1889.5    No  \n",
              "2               Mailed check          53.85        108.15   Yes  \n",
              "3  Bank transfer (automatic)          42.30       1840.75    No  \n",
              "4           Electronic check          70.70        151.65   Yes  \n",
              "\n",
              "[5 rows x 21 columns]"
            ]
          },
          "execution_count": 360,
          "metadata": {},
          "output_type": "execute_result"
        }
      ],
      "source": [
        "df.head()"
      ]
    },
    {
      "cell_type": "code",
      "execution_count": 361,
      "metadata": {
        "colab": {
          "base_uri": "https://localhost:8080/"
        },
        "id": "PAzEivWzIU8c",
        "outputId": "472e94a7-1416-46eb-cf0b-c15e471c1cf0"
      },
      "outputs": [
        {
          "name": "stdout",
          "output_type": "stream",
          "text": [
            "<class 'pandas.core.frame.DataFrame'>\n",
            "RangeIndex: 7043 entries, 0 to 7042\n",
            "Data columns (total 21 columns):\n",
            " #   Column            Non-Null Count  Dtype  \n",
            "---  ------            --------------  -----  \n",
            " 0   customerID        7043 non-null   object \n",
            " 1   gender            7043 non-null   object \n",
            " 2   SeniorCitizen     7043 non-null   int64  \n",
            " 3   Partner           7043 non-null   object \n",
            " 4   Dependents        7043 non-null   object \n",
            " 5   tenure            7043 non-null   int64  \n",
            " 6   PhoneService      7043 non-null   object \n",
            " 7   MultipleLines     7043 non-null   object \n",
            " 8   InternetService   7043 non-null   object \n",
            " 9   OnlineSecurity    7043 non-null   object \n",
            " 10  OnlineBackup      7043 non-null   object \n",
            " 11  DeviceProtection  7043 non-null   object \n",
            " 12  TechSupport       7043 non-null   object \n",
            " 13  StreamingTV       7043 non-null   object \n",
            " 14  StreamingMovies   7043 non-null   object \n",
            " 15  Contract          7043 non-null   object \n",
            " 16  PaperlessBilling  7043 non-null   object \n",
            " 17  PaymentMethod     7043 non-null   object \n",
            " 18  MonthlyCharges    7043 non-null   float64\n",
            " 19  TotalCharges      7043 non-null   object \n",
            " 20  Churn             7043 non-null   object \n",
            "dtypes: float64(1), int64(2), object(18)\n",
            "memory usage: 1.1+ MB\n"
          ]
        }
      ],
      "source": [
        "df.info()"
      ]
    },
    {
      "cell_type": "code",
      "execution_count": 362,
      "metadata": {},
      "outputs": [
        {
          "name": "stdout",
          "output_type": "stream",
          "text": [
            "0         29.85\n",
            "1        1889.5\n",
            "2        108.15\n",
            "3       1840.75\n",
            "4        151.65\n",
            "         ...   \n",
            "7038     1990.5\n",
            "7039     7362.9\n",
            "7040     346.45\n",
            "7041      306.6\n",
            "7042     6844.5\n",
            "Name: TotalCharges, Length: 7043, dtype: object\n"
          ]
        }
      ],
      "source": [
        "# Why TotalCharges is object?\n",
        "print(df.TotalCharges)"
      ]
    },
    {
      "cell_type": "code",
      "execution_count": 363,
      "metadata": {},
      "outputs": [],
      "source": [
        "# Converting TotalCharges to float values\n",
        "\n",
        "# df['TotalCharges']=df['TotalCharges'].astype(float)  #Right     df['TotalCharges'] is a Pd Series\n",
        "\n",
        "# df['TotalCharges']=float(df['TotalCharges'])  #Wrong          float() expects a single value, not a Series."
      ]
    },
    {
      "cell_type": "markdown",
      "metadata": {},
      "source": [
        "Above code gives error, which means there is something wrong with the column"
      ]
    },
    {
      "cell_type": "code",
      "execution_count": 364,
      "metadata": {},
      "outputs": [
        {
          "name": "stdout",
          "output_type": "stream",
          "text": [
            "['29.85' '1889.5' '108.15' ... '346.45' '306.6' '6844.5']\n"
          ]
        },
        {
          "data": {
            "text/plain": [
              "numpy.ndarray"
            ]
          },
          "execution_count": 364,
          "metadata": {},
          "output_type": "execute_result"
        }
      ],
      "source": [
        "x=df[\"TotalCharges\"].unique()\n",
        "print(x)\n",
        "type(x)"
      ]
    },
    {
      "cell_type": "markdown",
      "metadata": {},
      "source": [
        "**method-1** <br>\n",
        "Even if already string, we make sure by: str(val) <br>\n",
        "Remove the first decimal point (if any): str(val).replace('.' ,  '', 1) . Only first because eg. 25...<br>\n",
        "Check if the result is all digits: .isdigit()  eg. '2985' .isdigit() returns True, so '29.85' is numeric, But ' ' or 'abc' not."
      ]
    },
    {
      "cell_type": "code",
      "execution_count": 365,
      "metadata": {},
      "outputs": [],
      "source": [
        "# non_numeric = [val for val in x if not str(val).replace('.', '', 1).isdigit()]\n",
        "# print(non_numeric)"
      ]
    },
    {
      "cell_type": "markdown",
      "metadata": {},
      "source": [
        "**Method-2**<br>\n",
        "pd.to_numeric(..., errors='coerce') turns invalid values into NaN.<br>\n",
        "notna() finds valid ones — so we negate ~ to get invalid rows.<br>\n",
        "Then we print their unique() values."
      ]
    },
    {
      "cell_type": "code",
      "execution_count": 366,
      "metadata": {},
      "outputs": [
        {
          "name": "stdout",
          "output_type": "stream",
          "text": [
            "[' ']\n"
          ]
        }
      ],
      "source": [
        "invalid_values = df[~pd.to_numeric(df[\"TotalCharges\"], errors='coerce').notna()][\"TotalCharges\"].unique()\n",
        "print(invalid_values)"
      ]
    },
    {
      "cell_type": "code",
      "execution_count": 367,
      "metadata": {},
      "outputs": [
        {
          "data": {
            "text/html": [
              "<div>\n",
              "<style scoped>\n",
              "    .dataframe tbody tr th:only-of-type {\n",
              "        vertical-align: middle;\n",
              "    }\n",
              "\n",
              "    .dataframe tbody tr th {\n",
              "        vertical-align: top;\n",
              "    }\n",
              "\n",
              "    .dataframe thead th {\n",
              "        text-align: right;\n",
              "    }\n",
              "</style>\n",
              "<table border=\"1\" class=\"dataframe\">\n",
              "  <thead>\n",
              "    <tr style=\"text-align: right;\">\n",
              "      <th></th>\n",
              "      <th>customerID</th>\n",
              "      <th>gender</th>\n",
              "      <th>SeniorCitizen</th>\n",
              "      <th>Partner</th>\n",
              "      <th>Dependents</th>\n",
              "      <th>tenure</th>\n",
              "      <th>PhoneService</th>\n",
              "      <th>MultipleLines</th>\n",
              "      <th>InternetService</th>\n",
              "      <th>OnlineSecurity</th>\n",
              "      <th>...</th>\n",
              "      <th>DeviceProtection</th>\n",
              "      <th>TechSupport</th>\n",
              "      <th>StreamingTV</th>\n",
              "      <th>StreamingMovies</th>\n",
              "      <th>Contract</th>\n",
              "      <th>PaperlessBilling</th>\n",
              "      <th>PaymentMethod</th>\n",
              "      <th>MonthlyCharges</th>\n",
              "      <th>TotalCharges</th>\n",
              "      <th>Churn</th>\n",
              "    </tr>\n",
              "  </thead>\n",
              "  <tbody>\n",
              "    <tr>\n",
              "      <th>488</th>\n",
              "      <td>4472-LVYGI</td>\n",
              "      <td>Female</td>\n",
              "      <td>0</td>\n",
              "      <td>Yes</td>\n",
              "      <td>Yes</td>\n",
              "      <td>0</td>\n",
              "      <td>No</td>\n",
              "      <td>No phone service</td>\n",
              "      <td>DSL</td>\n",
              "      <td>Yes</td>\n",
              "      <td>...</td>\n",
              "      <td>Yes</td>\n",
              "      <td>Yes</td>\n",
              "      <td>Yes</td>\n",
              "      <td>No</td>\n",
              "      <td>Two year</td>\n",
              "      <td>Yes</td>\n",
              "      <td>Bank transfer (automatic)</td>\n",
              "      <td>52.55</td>\n",
              "      <td></td>\n",
              "      <td>No</td>\n",
              "    </tr>\n",
              "    <tr>\n",
              "      <th>753</th>\n",
              "      <td>3115-CZMZD</td>\n",
              "      <td>Male</td>\n",
              "      <td>0</td>\n",
              "      <td>No</td>\n",
              "      <td>Yes</td>\n",
              "      <td>0</td>\n",
              "      <td>Yes</td>\n",
              "      <td>No</td>\n",
              "      <td>No</td>\n",
              "      <td>No internet service</td>\n",
              "      <td>...</td>\n",
              "      <td>No internet service</td>\n",
              "      <td>No internet service</td>\n",
              "      <td>No internet service</td>\n",
              "      <td>No internet service</td>\n",
              "      <td>Two year</td>\n",
              "      <td>No</td>\n",
              "      <td>Mailed check</td>\n",
              "      <td>20.25</td>\n",
              "      <td></td>\n",
              "      <td>No</td>\n",
              "    </tr>\n",
              "    <tr>\n",
              "      <th>936</th>\n",
              "      <td>5709-LVOEQ</td>\n",
              "      <td>Female</td>\n",
              "      <td>0</td>\n",
              "      <td>Yes</td>\n",
              "      <td>Yes</td>\n",
              "      <td>0</td>\n",
              "      <td>Yes</td>\n",
              "      <td>No</td>\n",
              "      <td>DSL</td>\n",
              "      <td>Yes</td>\n",
              "      <td>...</td>\n",
              "      <td>Yes</td>\n",
              "      <td>No</td>\n",
              "      <td>Yes</td>\n",
              "      <td>Yes</td>\n",
              "      <td>Two year</td>\n",
              "      <td>No</td>\n",
              "      <td>Mailed check</td>\n",
              "      <td>80.85</td>\n",
              "      <td></td>\n",
              "      <td>No</td>\n",
              "    </tr>\n",
              "    <tr>\n",
              "      <th>1082</th>\n",
              "      <td>4367-NUYAO</td>\n",
              "      <td>Male</td>\n",
              "      <td>0</td>\n",
              "      <td>Yes</td>\n",
              "      <td>Yes</td>\n",
              "      <td>0</td>\n",
              "      <td>Yes</td>\n",
              "      <td>Yes</td>\n",
              "      <td>No</td>\n",
              "      <td>No internet service</td>\n",
              "      <td>...</td>\n",
              "      <td>No internet service</td>\n",
              "      <td>No internet service</td>\n",
              "      <td>No internet service</td>\n",
              "      <td>No internet service</td>\n",
              "      <td>Two year</td>\n",
              "      <td>No</td>\n",
              "      <td>Mailed check</td>\n",
              "      <td>25.75</td>\n",
              "      <td></td>\n",
              "      <td>No</td>\n",
              "    </tr>\n",
              "    <tr>\n",
              "      <th>1340</th>\n",
              "      <td>1371-DWPAZ</td>\n",
              "      <td>Female</td>\n",
              "      <td>0</td>\n",
              "      <td>Yes</td>\n",
              "      <td>Yes</td>\n",
              "      <td>0</td>\n",
              "      <td>No</td>\n",
              "      <td>No phone service</td>\n",
              "      <td>DSL</td>\n",
              "      <td>Yes</td>\n",
              "      <td>...</td>\n",
              "      <td>Yes</td>\n",
              "      <td>Yes</td>\n",
              "      <td>Yes</td>\n",
              "      <td>No</td>\n",
              "      <td>Two year</td>\n",
              "      <td>No</td>\n",
              "      <td>Credit card (automatic)</td>\n",
              "      <td>56.05</td>\n",
              "      <td></td>\n",
              "      <td>No</td>\n",
              "    </tr>\n",
              "    <tr>\n",
              "      <th>3331</th>\n",
              "      <td>7644-OMVMY</td>\n",
              "      <td>Male</td>\n",
              "      <td>0</td>\n",
              "      <td>Yes</td>\n",
              "      <td>Yes</td>\n",
              "      <td>0</td>\n",
              "      <td>Yes</td>\n",
              "      <td>No</td>\n",
              "      <td>No</td>\n",
              "      <td>No internet service</td>\n",
              "      <td>...</td>\n",
              "      <td>No internet service</td>\n",
              "      <td>No internet service</td>\n",
              "      <td>No internet service</td>\n",
              "      <td>No internet service</td>\n",
              "      <td>Two year</td>\n",
              "      <td>No</td>\n",
              "      <td>Mailed check</td>\n",
              "      <td>19.85</td>\n",
              "      <td></td>\n",
              "      <td>No</td>\n",
              "    </tr>\n",
              "    <tr>\n",
              "      <th>3826</th>\n",
              "      <td>3213-VVOLG</td>\n",
              "      <td>Male</td>\n",
              "      <td>0</td>\n",
              "      <td>Yes</td>\n",
              "      <td>Yes</td>\n",
              "      <td>0</td>\n",
              "      <td>Yes</td>\n",
              "      <td>Yes</td>\n",
              "      <td>No</td>\n",
              "      <td>No internet service</td>\n",
              "      <td>...</td>\n",
              "      <td>No internet service</td>\n",
              "      <td>No internet service</td>\n",
              "      <td>No internet service</td>\n",
              "      <td>No internet service</td>\n",
              "      <td>Two year</td>\n",
              "      <td>No</td>\n",
              "      <td>Mailed check</td>\n",
              "      <td>25.35</td>\n",
              "      <td></td>\n",
              "      <td>No</td>\n",
              "    </tr>\n",
              "    <tr>\n",
              "      <th>4380</th>\n",
              "      <td>2520-SGTTA</td>\n",
              "      <td>Female</td>\n",
              "      <td>0</td>\n",
              "      <td>Yes</td>\n",
              "      <td>Yes</td>\n",
              "      <td>0</td>\n",
              "      <td>Yes</td>\n",
              "      <td>No</td>\n",
              "      <td>No</td>\n",
              "      <td>No internet service</td>\n",
              "      <td>...</td>\n",
              "      <td>No internet service</td>\n",
              "      <td>No internet service</td>\n",
              "      <td>No internet service</td>\n",
              "      <td>No internet service</td>\n",
              "      <td>Two year</td>\n",
              "      <td>No</td>\n",
              "      <td>Mailed check</td>\n",
              "      <td>20.00</td>\n",
              "      <td></td>\n",
              "      <td>No</td>\n",
              "    </tr>\n",
              "    <tr>\n",
              "      <th>5218</th>\n",
              "      <td>2923-ARZLG</td>\n",
              "      <td>Male</td>\n",
              "      <td>0</td>\n",
              "      <td>Yes</td>\n",
              "      <td>Yes</td>\n",
              "      <td>0</td>\n",
              "      <td>Yes</td>\n",
              "      <td>No</td>\n",
              "      <td>No</td>\n",
              "      <td>No internet service</td>\n",
              "      <td>...</td>\n",
              "      <td>No internet service</td>\n",
              "      <td>No internet service</td>\n",
              "      <td>No internet service</td>\n",
              "      <td>No internet service</td>\n",
              "      <td>One year</td>\n",
              "      <td>Yes</td>\n",
              "      <td>Mailed check</td>\n",
              "      <td>19.70</td>\n",
              "      <td></td>\n",
              "      <td>No</td>\n",
              "    </tr>\n",
              "    <tr>\n",
              "      <th>6670</th>\n",
              "      <td>4075-WKNIU</td>\n",
              "      <td>Female</td>\n",
              "      <td>0</td>\n",
              "      <td>Yes</td>\n",
              "      <td>Yes</td>\n",
              "      <td>0</td>\n",
              "      <td>Yes</td>\n",
              "      <td>Yes</td>\n",
              "      <td>DSL</td>\n",
              "      <td>No</td>\n",
              "      <td>...</td>\n",
              "      <td>Yes</td>\n",
              "      <td>Yes</td>\n",
              "      <td>Yes</td>\n",
              "      <td>No</td>\n",
              "      <td>Two year</td>\n",
              "      <td>No</td>\n",
              "      <td>Mailed check</td>\n",
              "      <td>73.35</td>\n",
              "      <td></td>\n",
              "      <td>No</td>\n",
              "    </tr>\n",
              "    <tr>\n",
              "      <th>6754</th>\n",
              "      <td>2775-SEFEE</td>\n",
              "      <td>Male</td>\n",
              "      <td>0</td>\n",
              "      <td>No</td>\n",
              "      <td>Yes</td>\n",
              "      <td>0</td>\n",
              "      <td>Yes</td>\n",
              "      <td>Yes</td>\n",
              "      <td>DSL</td>\n",
              "      <td>Yes</td>\n",
              "      <td>...</td>\n",
              "      <td>No</td>\n",
              "      <td>Yes</td>\n",
              "      <td>No</td>\n",
              "      <td>No</td>\n",
              "      <td>Two year</td>\n",
              "      <td>Yes</td>\n",
              "      <td>Bank transfer (automatic)</td>\n",
              "      <td>61.90</td>\n",
              "      <td></td>\n",
              "      <td>No</td>\n",
              "    </tr>\n",
              "  </tbody>\n",
              "</table>\n",
              "<p>11 rows × 21 columns</p>\n",
              "</div>"
            ],
            "text/plain": [
              "      customerID  gender  SeniorCitizen Partner Dependents  tenure  \\\n",
              "488   4472-LVYGI  Female              0     Yes        Yes       0   \n",
              "753   3115-CZMZD    Male              0      No        Yes       0   \n",
              "936   5709-LVOEQ  Female              0     Yes        Yes       0   \n",
              "1082  4367-NUYAO    Male              0     Yes        Yes       0   \n",
              "1340  1371-DWPAZ  Female              0     Yes        Yes       0   \n",
              "3331  7644-OMVMY    Male              0     Yes        Yes       0   \n",
              "3826  3213-VVOLG    Male              0     Yes        Yes       0   \n",
              "4380  2520-SGTTA  Female              0     Yes        Yes       0   \n",
              "5218  2923-ARZLG    Male              0     Yes        Yes       0   \n",
              "6670  4075-WKNIU  Female              0     Yes        Yes       0   \n",
              "6754  2775-SEFEE    Male              0      No        Yes       0   \n",
              "\n",
              "     PhoneService     MultipleLines InternetService       OnlineSecurity  ...  \\\n",
              "488            No  No phone service             DSL                  Yes  ...   \n",
              "753           Yes                No              No  No internet service  ...   \n",
              "936           Yes                No             DSL                  Yes  ...   \n",
              "1082          Yes               Yes              No  No internet service  ...   \n",
              "1340           No  No phone service             DSL                  Yes  ...   \n",
              "3331          Yes                No              No  No internet service  ...   \n",
              "3826          Yes               Yes              No  No internet service  ...   \n",
              "4380          Yes                No              No  No internet service  ...   \n",
              "5218          Yes                No              No  No internet service  ...   \n",
              "6670          Yes               Yes             DSL                   No  ...   \n",
              "6754          Yes               Yes             DSL                  Yes  ...   \n",
              "\n",
              "         DeviceProtection          TechSupport          StreamingTV  \\\n",
              "488                   Yes                  Yes                  Yes   \n",
              "753   No internet service  No internet service  No internet service   \n",
              "936                   Yes                   No                  Yes   \n",
              "1082  No internet service  No internet service  No internet service   \n",
              "1340                  Yes                  Yes                  Yes   \n",
              "3331  No internet service  No internet service  No internet service   \n",
              "3826  No internet service  No internet service  No internet service   \n",
              "4380  No internet service  No internet service  No internet service   \n",
              "5218  No internet service  No internet service  No internet service   \n",
              "6670                  Yes                  Yes                  Yes   \n",
              "6754                   No                  Yes                   No   \n",
              "\n",
              "          StreamingMovies  Contract PaperlessBilling  \\\n",
              "488                    No  Two year              Yes   \n",
              "753   No internet service  Two year               No   \n",
              "936                   Yes  Two year               No   \n",
              "1082  No internet service  Two year               No   \n",
              "1340                   No  Two year               No   \n",
              "3331  No internet service  Two year               No   \n",
              "3826  No internet service  Two year               No   \n",
              "4380  No internet service  Two year               No   \n",
              "5218  No internet service  One year              Yes   \n",
              "6670                   No  Two year               No   \n",
              "6754                   No  Two year              Yes   \n",
              "\n",
              "                  PaymentMethod MonthlyCharges  TotalCharges Churn  \n",
              "488   Bank transfer (automatic)          52.55                  No  \n",
              "753                Mailed check          20.25                  No  \n",
              "936                Mailed check          80.85                  No  \n",
              "1082               Mailed check          25.75                  No  \n",
              "1340    Credit card (automatic)          56.05                  No  \n",
              "3331               Mailed check          19.85                  No  \n",
              "3826               Mailed check          25.35                  No  \n",
              "4380               Mailed check          20.00                  No  \n",
              "5218               Mailed check          19.70                  No  \n",
              "6670               Mailed check          73.35                  No  \n",
              "6754  Bank transfer (automatic)          61.90                  No  \n",
              "\n",
              "[11 rows x 21 columns]"
            ]
          },
          "execution_count": 367,
          "metadata": {},
          "output_type": "execute_result"
        }
      ],
      "source": [
        "df[df[\"TotalCharges\"]==\" \"]"
      ]
    },
    {
      "cell_type": "code",
      "execution_count": 368,
      "metadata": {},
      "outputs": [
        {
          "data": {
            "text/plain": [
              "11"
            ]
          },
          "execution_count": 368,
          "metadata": {},
          "output_type": "execute_result"
        }
      ],
      "source": [
        "rows_num=df[df[\"TotalCharges\"]==\" \"].shape[0]\n",
        "rows_num"
      ]
    },
    {
      "cell_type": "code",
      "execution_count": 369,
      "metadata": {},
      "outputs": [],
      "source": [
        "df[\"TotalCharges\"] = df[\"TotalCharges\"].replace({\" \": \"0.0\"})"
      ]
    },
    {
      "cell_type": "code",
      "execution_count": 370,
      "metadata": {},
      "outputs": [],
      "source": [
        "df['TotalCharges']=df['TotalCharges'].astype(float)"
      ]
    },
    {
      "cell_type": "code",
      "execution_count": 371,
      "metadata": {},
      "outputs": [
        {
          "data": {
            "text/plain": [
              "dtype('float64')"
            ]
          },
          "execution_count": 371,
          "metadata": {},
          "output_type": "execute_result"
        }
      ],
      "source": [
        "df[\"TotalCharges\"].dtype  # Now Okay"
      ]
    },
    {
      "cell_type": "code",
      "execution_count": 372,
      "metadata": {},
      "outputs": [
        {
          "name": "stdout",
          "output_type": "stream",
          "text": [
            "[0 1]\n"
          ]
        }
      ],
      "source": [
        "# Why SeniouCitizen is int?\n",
        "\n",
        "print(df[\"SeniorCitizen\"].unique())"
      ]
    },
    {
      "cell_type": "code",
      "execution_count": 373,
      "metadata": {
        "id": "sA_oK-1DJFEK"
      },
      "outputs": [],
      "source": [
        "# customerID column is not required for anything\n",
        "\n",
        "df.drop(columns=[\"customerID\"],inplace=True)"
      ]
    },
    {
      "cell_type": "code",
      "execution_count": 374,
      "metadata": {
        "colab": {
          "base_uri": "https://localhost:8080/",
          "height": 149
        },
        "id": "JU5Q6F92KTRz",
        "outputId": "2c1c983a-9002-4753-eec7-a67cf8d49c3f"
      },
      "outputs": [
        {
          "data": {
            "text/html": [
              "<div>\n",
              "<style scoped>\n",
              "    .dataframe tbody tr th:only-of-type {\n",
              "        vertical-align: middle;\n",
              "    }\n",
              "\n",
              "    .dataframe tbody tr th {\n",
              "        vertical-align: top;\n",
              "    }\n",
              "\n",
              "    .dataframe thead th {\n",
              "        text-align: right;\n",
              "    }\n",
              "</style>\n",
              "<table border=\"1\" class=\"dataframe\">\n",
              "  <thead>\n",
              "    <tr style=\"text-align: right;\">\n",
              "      <th></th>\n",
              "      <th>gender</th>\n",
              "      <th>SeniorCitizen</th>\n",
              "      <th>Partner</th>\n",
              "      <th>Dependents</th>\n",
              "      <th>tenure</th>\n",
              "      <th>PhoneService</th>\n",
              "      <th>MultipleLines</th>\n",
              "      <th>InternetService</th>\n",
              "      <th>OnlineSecurity</th>\n",
              "      <th>OnlineBackup</th>\n",
              "      <th>DeviceProtection</th>\n",
              "      <th>TechSupport</th>\n",
              "      <th>StreamingTV</th>\n",
              "      <th>StreamingMovies</th>\n",
              "      <th>Contract</th>\n",
              "      <th>PaperlessBilling</th>\n",
              "      <th>PaymentMethod</th>\n",
              "      <th>MonthlyCharges</th>\n",
              "      <th>TotalCharges</th>\n",
              "      <th>Churn</th>\n",
              "    </tr>\n",
              "  </thead>\n",
              "  <tbody>\n",
              "    <tr>\n",
              "      <th>0</th>\n",
              "      <td>Female</td>\n",
              "      <td>0</td>\n",
              "      <td>Yes</td>\n",
              "      <td>No</td>\n",
              "      <td>1</td>\n",
              "      <td>No</td>\n",
              "      <td>No phone service</td>\n",
              "      <td>DSL</td>\n",
              "      <td>No</td>\n",
              "      <td>Yes</td>\n",
              "      <td>No</td>\n",
              "      <td>No</td>\n",
              "      <td>No</td>\n",
              "      <td>No</td>\n",
              "      <td>Month-to-month</td>\n",
              "      <td>Yes</td>\n",
              "      <td>Electronic check</td>\n",
              "      <td>29.85</td>\n",
              "      <td>29.85</td>\n",
              "      <td>No</td>\n",
              "    </tr>\n",
              "    <tr>\n",
              "      <th>1</th>\n",
              "      <td>Male</td>\n",
              "      <td>0</td>\n",
              "      <td>No</td>\n",
              "      <td>No</td>\n",
              "      <td>34</td>\n",
              "      <td>Yes</td>\n",
              "      <td>No</td>\n",
              "      <td>DSL</td>\n",
              "      <td>Yes</td>\n",
              "      <td>No</td>\n",
              "      <td>Yes</td>\n",
              "      <td>No</td>\n",
              "      <td>No</td>\n",
              "      <td>No</td>\n",
              "      <td>One year</td>\n",
              "      <td>No</td>\n",
              "      <td>Mailed check</td>\n",
              "      <td>56.95</td>\n",
              "      <td>1889.50</td>\n",
              "      <td>No</td>\n",
              "    </tr>\n",
              "  </tbody>\n",
              "</table>\n",
              "</div>"
            ],
            "text/plain": [
              "   gender  SeniorCitizen Partner Dependents  tenure PhoneService  \\\n",
              "0  Female              0     Yes         No       1           No   \n",
              "1    Male              0      No         No      34          Yes   \n",
              "\n",
              "      MultipleLines InternetService OnlineSecurity OnlineBackup  \\\n",
              "0  No phone service             DSL             No          Yes   \n",
              "1                No             DSL            Yes           No   \n",
              "\n",
              "  DeviceProtection TechSupport StreamingTV StreamingMovies        Contract  \\\n",
              "0               No          No          No              No  Month-to-month   \n",
              "1              Yes          No          No              No        One year   \n",
              "\n",
              "  PaperlessBilling     PaymentMethod  MonthlyCharges  TotalCharges Churn  \n",
              "0              Yes  Electronic check           29.85         29.85    No  \n",
              "1               No      Mailed check           56.95       1889.50    No  "
            ]
          },
          "execution_count": 374,
          "metadata": {},
          "output_type": "execute_result"
        }
      ],
      "source": [
        "df.head(2)"
      ]
    },
    {
      "cell_type": "code",
      "execution_count": 375,
      "metadata": {
        "colab": {
          "base_uri": "https://localhost:8080/"
        },
        "id": "zxUPY9zTKtP5",
        "outputId": "db34521a-9f19-4597-9e04-f56b37ce809f"
      },
      "outputs": [
        {
          "data": {
            "text/plain": [
              "Index(['gender', 'SeniorCitizen', 'Partner', 'Dependents', 'tenure',\n",
              "       'PhoneService', 'MultipleLines', 'InternetService', 'OnlineSecurity',\n",
              "       'OnlineBackup', 'DeviceProtection', 'TechSupport', 'StreamingTV',\n",
              "       'StreamingMovies', 'Contract', 'PaperlessBilling', 'PaymentMethod',\n",
              "       'MonthlyCharges', 'TotalCharges', 'Churn'],\n",
              "      dtype='object')"
            ]
          },
          "execution_count": 375,
          "metadata": {},
          "output_type": "execute_result"
        }
      ],
      "source": [
        "df.columns"
      ]
    },
    {
      "cell_type": "code",
      "execution_count": 376,
      "metadata": {
        "colab": {
          "base_uri": "https://localhost:8080/"
        },
        "id": "l34hMyJMKw3D",
        "outputId": "f9a52cdc-c3ba-403b-c958-35b18bc3e28c"
      },
      "outputs": [
        {
          "name": "stdout",
          "output_type": "stream",
          "text": [
            "['Female' 'Male']\n"
          ]
        }
      ],
      "source": [
        "# To check if there is only 2 categories with no capitalization issue\n",
        "print(df[\"gender\"].unique())"
      ]
    },
    {
      "cell_type": "code",
      "execution_count": 377,
      "metadata": {
        "colab": {
          "base_uri": "https://localhost:8080/"
        },
        "id": "heeFR4JJKULo",
        "outputId": "53195360-e58a-4c92-b212-b030ba51cf2c"
      },
      "outputs": [
        {
          "name": "stdout",
          "output_type": "stream",
          "text": [
            "gender ['Female' 'Male'] \n",
            "\n",
            "SeniorCitizen [0 1] \n",
            "\n",
            "Partner ['Yes' 'No'] \n",
            "\n",
            "Dependents ['No' 'Yes'] \n",
            "\n",
            "PhoneService ['No' 'Yes'] \n",
            "\n",
            "MultipleLines ['No phone service' 'No' 'Yes'] \n",
            "\n",
            "InternetService ['DSL' 'Fiber optic' 'No'] \n",
            "\n",
            "OnlineSecurity ['No' 'Yes' 'No internet service'] \n",
            "\n",
            "OnlineBackup ['Yes' 'No' 'No internet service'] \n",
            "\n",
            "DeviceProtection ['No' 'Yes' 'No internet service'] \n",
            "\n",
            "TechSupport ['No' 'Yes' 'No internet service'] \n",
            "\n",
            "StreamingTV ['No' 'Yes' 'No internet service'] \n",
            "\n",
            "StreamingMovies ['No' 'Yes' 'No internet service'] \n",
            "\n",
            "Contract ['Month-to-month' 'One year' 'Two year'] \n",
            "\n",
            "PaperlessBilling ['Yes' 'No'] \n",
            "\n",
            "PaymentMethod ['Electronic check' 'Mailed check' 'Bank transfer (automatic)'\n",
            " 'Credit card (automatic)'] \n",
            "\n",
            "Churn ['No' 'Yes'] \n",
            "\n"
          ]
        }
      ],
      "source": [
        "# printing the unique values in all the columns\n",
        "\n",
        "numerical_col_list = [\"tenure\", \"MonthlyCharges\", \"TotalCharges\"] #didn't include SeniorCitizen col because it is binary classified\n",
        "\n",
        "for col in df.columns:\n",
        "  if col not in numerical_col_list:\n",
        "    print(col, df[col].unique(), \"\\n\",sep=\" \")"
      ]
    },
    {
      "cell_type": "code",
      "execution_count": 378,
      "metadata": {
        "colab": {
          "base_uri": "https://localhost:8080/"
        },
        "id": "1_VJd8WvNkei",
        "outputId": "6411f6ae-b927-405a-c0cc-1da5a707b846"
      },
      "outputs": [
        {
          "name": "stdout",
          "output_type": "stream",
          "text": [
            "Churn\n",
            "No     5174\n",
            "Yes    1869\n",
            "Name: count, dtype: int64\n"
          ]
        }
      ],
      "source": [
        "# class distribution of Churn column\n",
        "print(df[\"Churn\"].value_counts())"
      ]
    },
    {
      "cell_type": "markdown",
      "metadata": {
        "id": "2bmA7i3OOcld"
      },
      "source": [
        "**3. Exploratory Data Analysis (EDA)**"
      ]
    },
    {
      "cell_type": "code",
      "execution_count": 379,
      "metadata": {
        "colab": {
          "base_uri": "https://localhost:8080/",
          "height": 300
        },
        "id": "Cs-Rev3AOntR",
        "outputId": "8a8a2a37-f603-4964-fb6c-7eb52329de13"
      },
      "outputs": [
        {
          "data": {
            "text/html": [
              "<div>\n",
              "<style scoped>\n",
              "    .dataframe tbody tr th:only-of-type {\n",
              "        vertical-align: middle;\n",
              "    }\n",
              "\n",
              "    .dataframe tbody tr th {\n",
              "        vertical-align: top;\n",
              "    }\n",
              "\n",
              "    .dataframe thead th {\n",
              "        text-align: right;\n",
              "    }\n",
              "</style>\n",
              "<table border=\"1\" class=\"dataframe\">\n",
              "  <thead>\n",
              "    <tr style=\"text-align: right;\">\n",
              "      <th></th>\n",
              "      <th>SeniorCitizen</th>\n",
              "      <th>tenure</th>\n",
              "      <th>MonthlyCharges</th>\n",
              "      <th>TotalCharges</th>\n",
              "    </tr>\n",
              "  </thead>\n",
              "  <tbody>\n",
              "    <tr>\n",
              "      <th>count</th>\n",
              "      <td>7043.000000</td>\n",
              "      <td>7043.000000</td>\n",
              "      <td>7043.000000</td>\n",
              "      <td>7043.000000</td>\n",
              "    </tr>\n",
              "    <tr>\n",
              "      <th>mean</th>\n",
              "      <td>0.162147</td>\n",
              "      <td>32.371149</td>\n",
              "      <td>64.761692</td>\n",
              "      <td>2279.734304</td>\n",
              "    </tr>\n",
              "    <tr>\n",
              "      <th>std</th>\n",
              "      <td>0.368612</td>\n",
              "      <td>24.559481</td>\n",
              "      <td>30.090047</td>\n",
              "      <td>2266.794470</td>\n",
              "    </tr>\n",
              "    <tr>\n",
              "      <th>min</th>\n",
              "      <td>0.000000</td>\n",
              "      <td>0.000000</td>\n",
              "      <td>18.250000</td>\n",
              "      <td>0.000000</td>\n",
              "    </tr>\n",
              "    <tr>\n",
              "      <th>25%</th>\n",
              "      <td>0.000000</td>\n",
              "      <td>9.000000</td>\n",
              "      <td>35.500000</td>\n",
              "      <td>398.550000</td>\n",
              "    </tr>\n",
              "    <tr>\n",
              "      <th>50%</th>\n",
              "      <td>0.000000</td>\n",
              "      <td>29.000000</td>\n",
              "      <td>70.350000</td>\n",
              "      <td>1394.550000</td>\n",
              "    </tr>\n",
              "    <tr>\n",
              "      <th>75%</th>\n",
              "      <td>0.000000</td>\n",
              "      <td>55.000000</td>\n",
              "      <td>89.850000</td>\n",
              "      <td>3786.600000</td>\n",
              "    </tr>\n",
              "    <tr>\n",
              "      <th>max</th>\n",
              "      <td>1.000000</td>\n",
              "      <td>72.000000</td>\n",
              "      <td>118.750000</td>\n",
              "      <td>8684.800000</td>\n",
              "    </tr>\n",
              "  </tbody>\n",
              "</table>\n",
              "</div>"
            ],
            "text/plain": [
              "       SeniorCitizen       tenure  MonthlyCharges  TotalCharges\n",
              "count    7043.000000  7043.000000     7043.000000   7043.000000\n",
              "mean        0.162147    32.371149       64.761692   2279.734304\n",
              "std         0.368612    24.559481       30.090047   2266.794470\n",
              "min         0.000000     0.000000       18.250000      0.000000\n",
              "25%         0.000000     9.000000       35.500000    398.550000\n",
              "50%         0.000000    29.000000       70.350000   1394.550000\n",
              "75%         0.000000    55.000000       89.850000   3786.600000\n",
              "max         1.000000    72.000000      118.750000   8684.800000"
            ]
          },
          "execution_count": 379,
          "metadata": {},
          "output_type": "execute_result"
        }
      ],
      "source": [
        "df.describe()"
      ]
    },
    {
      "cell_type": "markdown",
      "metadata": {},
      "source": [
        "**Plots**"
      ]
    },
    {
      "cell_type": "markdown",
      "metadata": {},
      "source": [
        "For numeric columns\n"
      ]
    },
    {
      "cell_type": "code",
      "execution_count": 380,
      "metadata": {
        "id": "GiVVdSpxOrXp"
      },
      "outputs": [],
      "source": [
        "#creating a function for preventing repetitiveness in plots\n",
        "def plot_histogram(df, column_name):\n",
        "\n",
        "  plt.figure(figsize=(5, 3))\n",
        "  sns.histplot(df[column_name], kde=True,bins=30)\n",
        "  plt.title(f\"Distribution of {column_name}\")\n",
        "\n",
        "  # add vertical lines for mean and median\n",
        "  \n",
        "  col_mean = df[column_name].mean()\n",
        "  col_median = df[column_name].median()\n",
        "  plt.axvline(col_mean, color=\"red\", linestyle=\"--\", label=\"Mean\")\n",
        "  plt.axvline(col_median, color=\"green\", linestyle=\"-\", label=\"Median\")\n",
        "\n",
        "  plt.legend()\n",
        "\n",
        "  plt.show()"
      ]
    },
    {
      "cell_type": "code",
      "execution_count": 381,
      "metadata": {
        "colab": {
          "base_uri": "https://localhost:8080/",
          "height": 333
        },
        "id": "C-ii594gRLiv",
        "outputId": "9afce1ea-f2e1-43e7-9429-0a2570298b0c"
      },
      "outputs": [
        {
          "data": {
            "image/png": "[encoded data removed]",
            "text/plain": [
              "<Figure size 500x300 with 1 Axes>"
            ]
          },
          "metadata": {},
          "output_type": "display_data"
        }
      ],
      "source": [
        "plot_histogram(df, \"tenure\")"
      ]
    },
    {
      "cell_type": "code",
      "execution_count": 382,
      "metadata": {
        "colab": {
          "base_uri": "https://localhost:8080/",
          "height": 333
        },
        "id": "N7aTEuvKRPQ2",
        "outputId": "cfdc985f-0904-4a1b-bb03-9825407e45eb"
      },
      "outputs": [
        {
          "data": {
            "image/png": "[encoded data removed]",
            "text/plain": [
              "<Figure size 500x300 with 1 Axes>"
            ]
          },
          "metadata": {},
          "output_type": "display_data"
        }
      ],
      "source": [
        "plot_histogram(df, \"MonthlyCharges\")"
      ]
    },
    {
      "cell_type": "code",
      "execution_count": 383,
      "metadata": {
        "colab": {
          "base_uri": "https://localhost:8080/",
          "height": 333
        },
        "id": "VpgyhemIRXl1",
        "outputId": "1e6b03e9-a759-468a-8b14-0c8e891cf565"
      },
      "outputs": [
        {
          "data": {
            "image/png": "[encoded data removed]",
            "text/plain": [
              "<Figure size 500x300 with 1 Axes>"
            ]
          },
          "metadata": {},
          "output_type": "display_data"
        }
      ],
      "source": [
        "plot_histogram(df, \"TotalCharges\")"
      ]
    },
    {
      "cell_type": "markdown",
      "metadata": {},
      "source": [
        "Above is a right skewed graph, linear models like linear reg, logistic reg, lasso or models like svm don't work well with these kind of data. They work well with normally distributed data."
      ]
    },
    {
      "cell_type": "markdown",
      "metadata": {
        "id": "dB-8XMyyR6oq"
      },
      "source": [
        "**Box plot for numerical features**"
      ]
    },
    {
      "cell_type": "code",
      "execution_count": 384,
      "metadata": {
        "id": "l_UN9to_ReoI"
      },
      "outputs": [],
      "source": [
        "def plot_boxplot(df, column_name):\n",
        "\n",
        "  plt.figure(figsize=(5, 3))\n",
        "  sns.boxplot(y=df[column_name])\n",
        "  plt.title(f\"Box Plot of {column_name}\")\n",
        "  plt.ylabel(column_name)\n",
        "  plt.show"
      ]
    },
    {
      "cell_type": "code",
      "execution_count": 385,
      "metadata": {
        "colab": {
          "base_uri": "https://localhost:8080/",
          "height": 295
        },
        "id": "BQm48zvRSMGj",
        "outputId": "acdee858-1a46-480f-eaab-4d799fadc89a"
      },
      "outputs": [
        {
          "data": {
            "image/png": "[encoded data removed]",
            "text/plain": [
              "<Figure size 500x300 with 1 Axes>"
            ]
          },
          "metadata": {},
          "output_type": "display_data"
        }
      ],
      "source": [
        "plot_boxplot(df, \"tenure\") "
      ]
    },
    {
      "cell_type": "code",
      "execution_count": 386,
      "metadata": {
        "colab": {
          "base_uri": "https://localhost:8080/",
          "height": 295
        },
        "id": "LMG8Jj6nSObQ",
        "outputId": "a655fc0c-f3c6-496b-f086-94c581799e4c"
      },
      "outputs": [
        {
          "data": {
            "image/png": "[encoded data removed]",
            "text/plain": [
              "<Figure size 500x300 with 1 Axes>"
            ]
          },
          "metadata": {},
          "output_type": "display_data"
        }
      ],
      "source": [
        "plot_boxplot(df, \"MonthlyCharges\")"
      ]
    },
    {
      "cell_type": "code",
      "execution_count": 387,
      "metadata": {
        "colab": {
          "base_uri": "https://localhost:8080/",
          "height": 295
        },
        "id": "DYijKgb-SOKA",
        "outputId": "9bb4e250-82c2-4b61-cee3-31e3b2295d6f"
      },
      "outputs": [
        {
          "data": {
            "image/png": "[encoded data removed]",
            "text/plain": [
              "<Figure size 500x300 with 1 Axes>"
            ]
          },
          "metadata": {},
          "output_type": "display_data"
        }
      ],
      "source": [
        "plot_boxplot(df, \"TotalCharges\")"
      ]
    },
    {
      "cell_type": "markdown",
      "metadata": {
        "id": "w26inWhjStai"
      },
      "source": [
        "**Correlation Heatmap for numerical columns**"
      ]
    },
    {
      "cell_type": "code",
      "execution_count": 388,
      "metadata": {
        "colab": {
          "base_uri": "https://localhost:8080/",
          "height": 391
        },
        "id": "ZB_oc-xySmu8",
        "outputId": "6eca9cb3-1c4f-46d8-d431-db2e3f460552"
      },
      "outputs": [
        {
          "data": {
            "image/png": "[encoded data removed]",
            "text/plain": [
              "<Figure size 800x500 with 2 Axes>"
            ]
          },
          "metadata": {},
          "output_type": "display_data"
        }
      ],
      "source": [
        "# correlation matrix - heatmap\n",
        "plt.figure(figsize=(8, 5))\n",
        "sns.heatmap(df[[\"tenure\", \"MonthlyCharges\", \"TotalCharges\"]].corr(), annot=True, cmap=\"coolwarm\", fmt=\".2f\")\n",
        "plt.title(\"Correlation Heatmap\")                                                  # fmt parameter tells how many decimal places to show\n",
        "plt.show()"
      ]
    },
    {
      "cell_type": "markdown",
      "metadata": {},
      "source": [
        "tenure and total charges are highly correlated so we can remove one of the column which might reduce multicollinearity, resulting in better result."
      ]
    },
    {
      "cell_type": "markdown",
      "metadata": {},
      "source": [
        "**Categorical columns**"
      ]
    },
    {
      "cell_type": "code",
      "execution_count": 389,
      "metadata": {},
      "outputs": [
        {
          "name": "stdout",
          "output_type": "stream",
          "text": [
            "<class 'pandas.core.frame.DataFrame'>\n",
            "RangeIndex: 7043 entries, 0 to 7042\n",
            "Data columns (total 20 columns):\n",
            " #   Column            Non-Null Count  Dtype  \n",
            "---  ------            --------------  -----  \n",
            " 0   gender            7043 non-null   object \n",
            " 1   SeniorCitizen     7043 non-null   int64  \n",
            " 2   Partner           7043 non-null   object \n",
            " 3   Dependents        7043 non-null   object \n",
            " 4   tenure            7043 non-null   int64  \n",
            " 5   PhoneService      7043 non-null   object \n",
            " 6   MultipleLines     7043 non-null   object \n",
            " 7   InternetService   7043 non-null   object \n",
            " 8   OnlineSecurity    7043 non-null   object \n",
            " 9   OnlineBackup      7043 non-null   object \n",
            " 10  DeviceProtection  7043 non-null   object \n",
            " 11  TechSupport       7043 non-null   object \n",
            " 12  StreamingTV       7043 non-null   object \n",
            " 13  StreamingMovies   7043 non-null   object \n",
            " 14  Contract          7043 non-null   object \n",
            " 15  PaperlessBilling  7043 non-null   object \n",
            " 16  PaymentMethod     7043 non-null   object \n",
            " 17  MonthlyCharges    7043 non-null   float64\n",
            " 18  TotalCharges      7043 non-null   float64\n",
            " 19  Churn             7043 non-null   object \n",
            "dtypes: float64(2), int64(2), object(16)\n",
            "memory usage: 1.1+ MB\n"
          ]
        }
      ],
      "source": [
        "df.info()"
      ]
    },
    {
      "cell_type": "markdown",
      "metadata": {},
      "source": [
        "all categorical columns have data type=\"objects\""
      ]
    },
    {
      "cell_type": "code",
      "execution_count": 390,
      "metadata": {},
      "outputs": [],
      "source": [
        "object_cols = df.select_dtypes(include=\"object\").columns.to_list()\n",
        "\n",
        "object_cols += [\"SeniorCitizen\"] "
      ]
    },
    {
      "cell_type": "code",
      "execution_count": 391,
      "metadata": {},
      "outputs": [
        {
          "name": "stdout",
          "output_type": "stream",
          "text": [
            "gender: object\n",
            "Partner: object\n",
            "Dependents: object\n",
            "PhoneService: object\n",
            "MultipleLines: object\n",
            "InternetService: object\n",
            "OnlineSecurity: object\n",
            "OnlineBackup: object\n",
            "DeviceProtection: object\n",
            "TechSupport: object\n",
            "StreamingTV: object\n",
            "StreamingMovies: object\n",
            "Contract: object\n",
            "PaperlessBilling: object\n",
            "PaymentMethod: object\n",
            "Churn: object\n",
            "SeniorCitizen: int64\n"
          ]
        }
      ],
      "source": [
        "for col in object_cols:\n",
        "    print(f\"{col}: {df[col].dtype}\")"
      ]
    },
    {
      "cell_type": "markdown",
      "metadata": {
        "id": "bn5hJMRWXkyv"
      },
      "source": [
        "Countplot for **categorical columns**"
      ]
    },
    {
      "cell_type": "code",
      "execution_count": 392,
      "metadata": {
        "colab": {
          "base_uri": "https://localhost:8080/",
          "height": 1000
        },
        "collapsed": true,
        "id": "W_JwQNlVXJmR",
        "outputId": "f8007621-f810-43d5-b6de-f56149ba226c"
      },
      "outputs": [],
      "source": [
        "# for col in object_cols:\n",
        "#   plt.figure(figsize=(5, 3))\n",
        "#   sns.countplot(x=df[col])\n",
        "#   plt.title(f\"Count Plot of {col}\")\n",
        "#   plt.tight_layout()\n",
        "#   plt.show()"
      ]
    },
    {
      "cell_type": "code",
      "execution_count": 393,
      "metadata": {},
      "outputs": [],
      "source": [
        "# for i in range(0, len(object_cols), 2):\n",
        "#     fig, axes = plt.subplots(1, 2, figsize=(12, 4))  # 1 row, 2 columns\n",
        "\n",
        "#     for j in range(2):\n",
        "#         if i + j < len(object_cols):\n",
        "#             col = object_cols[i + j]\n",
        "#             sns.countplot(x=df[col], ax=axes[j])\n",
        "#             axes[j].set_title(f\"Count Plot of {col}\")\n",
        "#             axes[j].tick_params(axis='x', rotation=30)\n",
        "\n",
        "#     plt.tight_layout()\n",
        "#     plt.show()"
      ]
    },
    {
      "cell_type": "code",
      "execution_count": 394,
      "metadata": {},
      "outputs": [
        {
          "data": {
            "image/png": "[encoded data removed]",
            "text/plain": [
              "<Figure size 1200x3600 with 18 Axes>"
            ]
          },
          "metadata": {},
          "output_type": "display_data"
        }
      ],
      "source": [
        "import math\n",
        "# Number of plots\n",
        "n = len(object_cols)\n",
        "rows = math.ceil(n / 2)  #.ceil() rounds up and .floor() rounds down\n",
        "\n",
        "fig, axes = plt.subplots(rows, 2, figsize=(2*6, rows*4))\n",
        "\n",
        "# Loop over rows and columns\n",
        "plot_index = 0\n",
        "for r in range(rows):\n",
        "    for c in range(2):\n",
        "        if plot_index < n:\n",
        "            col = object_cols[plot_index]\n",
        "            sns.countplot(x=df[col], ax=axes[r][c])\n",
        "            axes[r][c].set_title(f\"Count Plot of {col}\")\n",
        "            axes[r][c].tick_params(axis='x', rotation=30)\n",
        "            plot_index += 1\n",
        "        else:\n",
        "            axes[r][c].axis('off')  # Hide empty subplot if plots < grid slots\n",
        "\n",
        "plt.tight_layout()\n",
        "plt.show()"
      ]
    },
    {
      "cell_type": "markdown",
      "metadata": {
        "id": "GqXSxa0RYRqf"
      },
      "source": [
        "**4. Data Preprocessing**"
      ]
    },
    {
      "cell_type": "markdown",
      "metadata": {
        "id": "ccUVS6BxYi8n"
      },
      "source": [
        "Label encoding of target column"
      ]
    },
    {
      "cell_type": "code",
      "execution_count": 395,
      "metadata": {},
      "outputs": [
        {
          "name": "stdout",
          "output_type": "stream",
          "text": [
            "Churn\n",
            "No     5174\n",
            "Yes    1869\n",
            "Name: count, dtype: int64\n"
          ]
        }
      ],
      "source": [
        "print(df[\"Churn\"].value_counts())"
      ]
    },
    {
      "cell_type": "code",
      "execution_count": 396,
      "metadata": {
        "colab": {
          "base_uri": "https://localhost:8080/"
        },
        "id": "NhLXuP1LYZfR",
        "outputId": "1656b24a-e9b1-445e-fe06-210ad180cb43"
      },
      "outputs": [
        {
          "name": "stderr",
          "output_type": "stream",
          "text": [
            "C:\\Users\\aksha\\AppData\\Local\\Temp\\ipykernel_44056\\631888689.py:1: FutureWarning: Downcasting behavior in `replace` is deprecated and will be removed in a future version. To retain the old behavior, explicitly call `result.infer_objects(copy=False)`. To opt-in to the future behavior, set `pd.set_option('future.no_silent_downcasting', True)`\n",
            "  df[\"Churn\"] = df[\"Churn\"].replace({\"Yes\": 1, \"No\": 0}).astype(int)\n"
          ]
        }
      ],
      "source": [
        "df[\"Churn\"] = df[\"Churn\"].replace({\"Yes\": 1, \"No\": 0}).astype(int)"
      ]
    },
    {
      "cell_type": "code",
      "execution_count": 397,
      "metadata": {
        "colab": {
          "base_uri": "https://localhost:8080/"
        },
        "id": "mcgXdTCwYsnw",
        "outputId": "e4c5bf05-b86d-4d4f-ddb7-983d53943f78"
      },
      "outputs": [
        {
          "name": "stdout",
          "output_type": "stream",
          "text": [
            "Churn\n",
            "0    5174\n",
            "1    1869\n",
            "Name: count, dtype: int64\n"
          ]
        }
      ],
      "source": [
        "print(df[\"Churn\"].value_counts())"
      ]
    },
    {
      "cell_type": "markdown",
      "metadata": {
        "id": "Cs3j58UWY8zJ"
      },
      "source": [
        "Label encoding of categorical fetaures"
      ]
    },
    {
      "cell_type": "code",
      "execution_count": 398,
      "metadata": {
        "id": "Q3-YraKcY4oC"
      },
      "outputs": [],
      "source": [
        "# identifying columns with object data type\n",
        "object_columns = df.select_dtypes(include=\"object\").columns"
      ]
    },
    {
      "cell_type": "code",
      "execution_count": 399,
      "metadata": {
        "colab": {
          "base_uri": "https://localhost:8080/"
        },
        "id": "EiFRA573ZNEy",
        "outputId": "c23a12d6-2c54-42a5-a6d0-bd84cc613716"
      },
      "outputs": [
        {
          "name": "stdout",
          "output_type": "stream",
          "text": [
            "Index(['gender', 'Partner', 'Dependents', 'PhoneService', 'MultipleLines',\n",
            "       'InternetService', 'OnlineSecurity', 'OnlineBackup', 'DeviceProtection',\n",
            "       'TechSupport', 'StreamingTV', 'StreamingMovies', 'Contract',\n",
            "       'PaperlessBilling', 'PaymentMethod'],\n",
            "      dtype='object')\n"
          ]
        }
      ],
      "source": [
        "print(object_columns)"
      ]
    },
    {
      "cell_type": "code",
      "execution_count": 400,
      "metadata": {
        "id": "Sq6c2atrZOdu"
      },
      "outputs": [],
      "source": [
        "# initialize a dictionary to save the encoders\n",
        "encoders = {}\n",
        "\n",
        "# apply label encoding and store the encoders\n",
        "for column in object_columns:\n",
        "  LE= LabelEncoder()\n",
        "  df[column] = LE.fit_transform(df[column])\n",
        "  encoders[column] = LE\n",
        "\n",
        "\n",
        "# save the encoders to a pickle file\n",
        "with open(\"encoders.pkl\", \"wb\") as f:\n",
        "  pickle.dump(encoders, f)\n"
      ]
    },
    {
      "cell_type": "code",
      "execution_count": 403,
      "metadata": {
        "colab": {
          "base_uri": "https://localhost:8080/"
        },
        "id": "RV5ff4YVZpEQ",
        "outputId": "1615b953-f57c-4f40-fe61-407e009d1c32"
      },
      "outputs": [
        {
          "data": {
            "text/plain": [
              "{'gender': LabelEncoder(),\n",
              " 'Partner': LabelEncoder(),\n",
              " 'Dependents': LabelEncoder(),\n",
              " 'PhoneService': LabelEncoder(),\n",
              " 'MultipleLines': LabelEncoder(),\n",
              " 'InternetService': LabelEncoder(),\n",
              " 'OnlineSecurity': LabelEncoder(),\n",
              " 'OnlineBackup': LabelEncoder(),\n",
              " 'DeviceProtection': LabelEncoder(),\n",
              " 'TechSupport': LabelEncoder(),\n",
              " 'StreamingTV': LabelEncoder(),\n",
              " 'StreamingMovies': LabelEncoder(),\n",
              " 'Contract': LabelEncoder(),\n",
              " 'PaperlessBilling': LabelEncoder(),\n",
              " 'PaymentMethod': LabelEncoder()}"
            ]
          },
          "execution_count": 403,
          "metadata": {},
          "output_type": "execute_result"
        }
      ],
      "source": [
        "encoders"
      ]
    },
    {
      "cell_type": "markdown",
      "metadata": {},
      "source": [
        "If we do one hot encoding the no. of columns in df will increase very much. Hence we are doing Label Encoding."
      ]
    },
    {
      "cell_type": "code",
      "execution_count": 404,
      "metadata": {
        "colab": {
          "base_uri": "https://localhost:8080/",
          "height": 226
        },
        "id": "km5wYiXAZsb0",
        "outputId": "9ee8bb31-fabe-42b5-a927-92b8f914c54d"
      },
      "outputs": [
        {
          "data": {
            "text/html": [
              "<div>\n",
              "<style scoped>\n",
              "    .dataframe tbody tr th:only-of-type {\n",
              "        vertical-align: middle;\n",
              "    }\n",
              "\n",
              "    .dataframe tbody tr th {\n",
              "        vertical-align: top;\n",
              "    }\n",
              "\n",
              "    .dataframe thead th {\n",
              "        text-align: right;\n",
              "    }\n",
              "</style>\n",
              "<table border=\"1\" class=\"dataframe\">\n",
              "  <thead>\n",
              "    <tr style=\"text-align: right;\">\n",
              "      <th></th>\n",
              "      <th>gender</th>\n",
              "      <th>SeniorCitizen</th>\n",
              "      <th>Partner</th>\n",
              "      <th>Dependents</th>\n",
              "      <th>tenure</th>\n",
              "      <th>PhoneService</th>\n",
              "      <th>MultipleLines</th>\n",
              "      <th>InternetService</th>\n",
              "      <th>OnlineSecurity</th>\n",
              "      <th>OnlineBackup</th>\n",
              "      <th>DeviceProtection</th>\n",
              "      <th>TechSupport</th>\n",
              "      <th>StreamingTV</th>\n",
              "      <th>StreamingMovies</th>\n",
              "      <th>Contract</th>\n",
              "      <th>PaperlessBilling</th>\n",
              "      <th>PaymentMethod</th>\n",
              "      <th>MonthlyCharges</th>\n",
              "      <th>TotalCharges</th>\n",
              "      <th>Churn</th>\n",
              "    </tr>\n",
              "  </thead>\n",
              "  <tbody>\n",
              "    <tr>\n",
              "      <th>0</th>\n",
              "      <td>0</td>\n",
              "      <td>0</td>\n",
              "      <td>1</td>\n",
              "      <td>0</td>\n",
              "      <td>1</td>\n",
              "      <td>0</td>\n",
              "      <td>1</td>\n",
              "      <td>0</td>\n",
              "      <td>0</td>\n",
              "      <td>2</td>\n",
              "      <td>0</td>\n",
              "      <td>0</td>\n",
              "      <td>0</td>\n",
              "      <td>0</td>\n",
              "      <td>0</td>\n",
              "      <td>1</td>\n",
              "      <td>2</td>\n",
              "      <td>29.85</td>\n",
              "      <td>29.85</td>\n",
              "      <td>0</td>\n",
              "    </tr>\n",
              "    <tr>\n",
              "      <th>1</th>\n",
              "      <td>1</td>\n",
              "      <td>0</td>\n",
              "      <td>0</td>\n",
              "      <td>0</td>\n",
              "      <td>34</td>\n",
              "      <td>1</td>\n",
              "      <td>0</td>\n",
              "      <td>0</td>\n",
              "      <td>2</td>\n",
              "      <td>0</td>\n",
              "      <td>2</td>\n",
              "      <td>0</td>\n",
              "      <td>0</td>\n",
              "      <td>0</td>\n",
              "      <td>1</td>\n",
              "      <td>0</td>\n",
              "      <td>3</td>\n",
              "      <td>56.95</td>\n",
              "      <td>1889.50</td>\n",
              "      <td>0</td>\n",
              "    </tr>\n",
              "    <tr>\n",
              "      <th>2</th>\n",
              "      <td>1</td>\n",
              "      <td>0</td>\n",
              "      <td>0</td>\n",
              "      <td>0</td>\n",
              "      <td>2</td>\n",
              "      <td>1</td>\n",
              "      <td>0</td>\n",
              "      <td>0</td>\n",
              "      <td>2</td>\n",
              "      <td>2</td>\n",
              "      <td>0</td>\n",
              "      <td>0</td>\n",
              "      <td>0</td>\n",
              "      <td>0</td>\n",
              "      <td>0</td>\n",
              "      <td>1</td>\n",
              "      <td>3</td>\n",
              "      <td>53.85</td>\n",
              "      <td>108.15</td>\n",
              "      <td>1</td>\n",
              "    </tr>\n",
              "    <tr>\n",
              "      <th>3</th>\n",
              "      <td>1</td>\n",
              "      <td>0</td>\n",
              "      <td>0</td>\n",
              "      <td>0</td>\n",
              "      <td>45</td>\n",
              "      <td>0</td>\n",
              "      <td>1</td>\n",
              "      <td>0</td>\n",
              "      <td>2</td>\n",
              "      <td>0</td>\n",
              "      <td>2</td>\n",
              "      <td>2</td>\n",
              "      <td>0</td>\n",
              "      <td>0</td>\n",
              "      <td>1</td>\n",
              "      <td>0</td>\n",
              "      <td>0</td>\n",
              "      <td>42.30</td>\n",
              "      <td>1840.75</td>\n",
              "      <td>0</td>\n",
              "    </tr>\n",
              "    <tr>\n",
              "      <th>4</th>\n",
              "      <td>0</td>\n",
              "      <td>0</td>\n",
              "      <td>0</td>\n",
              "      <td>0</td>\n",
              "      <td>2</td>\n",
              "      <td>1</td>\n",
              "      <td>0</td>\n",
              "      <td>1</td>\n",
              "      <td>0</td>\n",
              "      <td>0</td>\n",
              "      <td>0</td>\n",
              "      <td>0</td>\n",
              "      <td>0</td>\n",
              "      <td>0</td>\n",
              "      <td>0</td>\n",
              "      <td>1</td>\n",
              "      <td>2</td>\n",
              "      <td>70.70</td>\n",
              "      <td>151.65</td>\n",
              "      <td>1</td>\n",
              "    </tr>\n",
              "  </tbody>\n",
              "</table>\n",
              "</div>"
            ],
            "text/plain": [
              "   gender  SeniorCitizen  Partner  Dependents  tenure  PhoneService  \\\n",
              "0       0              0        1           0       1             0   \n",
              "1       1              0        0           0      34             1   \n",
              "2       1              0        0           0       2             1   \n",
              "3       1              0        0           0      45             0   \n",
              "4       0              0        0           0       2             1   \n",
              "\n",
              "   MultipleLines  InternetService  OnlineSecurity  OnlineBackup  \\\n",
              "0              1                0               0             2   \n",
              "1              0                0               2             0   \n",
              "2              0                0               2             2   \n",
              "3              1                0               2             0   \n",
              "4              0                1               0             0   \n",
              "\n",
              "   DeviceProtection  TechSupport  StreamingTV  StreamingMovies  Contract  \\\n",
              "0                 0            0            0                0         0   \n",
              "1                 2            0            0                0         1   \n",
              "2                 0            0            0                0         0   \n",
              "3                 2            2            0                0         1   \n",
              "4                 0            0            0                0         0   \n",
              "\n",
              "   PaperlessBilling  PaymentMethod  MonthlyCharges  TotalCharges  Churn  \n",
              "0                 1              2           29.85         29.85      0  \n",
              "1                 0              3           56.95       1889.50      0  \n",
              "2                 1              3           53.85        108.15      1  \n",
              "3                 0              0           42.30       1840.75      0  \n",
              "4                 1              2           70.70        151.65      1  "
            ]
          },
          "execution_count": 404,
          "metadata": {},
          "output_type": "execute_result"
        }
      ],
      "source": [
        "df.head()"
      ]
    },
    {
      "cell_type": "markdown",
      "metadata": {
        "id": "hEURc8NrbufR"
      },
      "source": [
        "**Traianing and test data split**"
      ]
    },
    {
      "cell_type": "code",
      "execution_count": 405,
      "metadata": {
        "id": "wN0ylxzKaUyE"
      },
      "outputs": [],
      "source": [
        "# splitting the features and target\n",
        "X = df.drop(columns=[\"Churn\"])\n",
        "y = df[\"Churn\"]"
      ]
    },
    {
      "cell_type": "code",
      "execution_count": 406,
      "metadata": {
        "id": "buwUAYVUb4aR"
      },
      "outputs": [],
      "source": [
        "# split training and test data\n",
        "X_train, X_test, y_train, y_test = train_test_split(X, y, test_size=0.2, random_state=101, stratify=y)"
      ]
    },
    {
      "cell_type": "markdown",
      "metadata": {},
      "source": [
        "If we used method like logistic reg, svm etc then we would have scaled the data first on Tenure, monthly charges, total charges (cause the are large values as compared to others). But tree methods dont require scaling."
      ]
    },
    {
      "cell_type": "code",
      "execution_count": 407,
      "metadata": {
        "colab": {
          "base_uri": "https://localhost:8080/"
        },
        "id": "vp5UEF3PcObc",
        "outputId": "28bb4813-f6f8-4d38-e122-0bee4afd73f1"
      },
      "outputs": [
        {
          "name": "stdout",
          "output_type": "stream",
          "text": [
            "(5634,)\n"
          ]
        }
      ],
      "source": [
        "print(y_train.shape)"
      ]
    },
    {
      "cell_type": "code",
      "execution_count": 408,
      "metadata": {
        "colab": {
          "base_uri": "https://localhost:8080/"
        },
        "id": "GzXErq7jcbaJ",
        "outputId": "ab99c3f8-62eb-4f73-90c7-ff6fd26aec5c"
      },
      "outputs": [
        {
          "name": "stdout",
          "output_type": "stream",
          "text": [
            "Churn\n",
            "0    4139\n",
            "1    1495\n",
            "Name: count, dtype: int64\n"
          ]
        }
      ],
      "source": [
        "print(y_train.value_counts())"
      ]
    },
    {
      "cell_type": "markdown",
      "metadata": {
        "id": "SW6dcHZMckA6"
      },
      "source": [
        "Synthetic Minority Oversampling TEchnique (SMOTE)"
      ]
    },
    {
      "cell_type": "code",
      "execution_count": 409,
      "metadata": {
        "id": "T7rj92Opcgh_"
      },
      "outputs": [],
      "source": [
        "smote = SMOTE(random_state=101)"
      ]
    },
    {
      "cell_type": "code",
      "execution_count": 410,
      "metadata": {
        "id": "oZkUnYCEcxLL"
      },
      "outputs": [],
      "source": [
        "X_train_smote, y_train_smote = smote.fit_resample(X_train, y_train)"
      ]
    },
    {
      "cell_type": "code",
      "execution_count": 411,
      "metadata": {},
      "outputs": [
        {
          "name": "stdout",
          "output_type": "stream",
          "text": [
            "(8278, 19)\n"
          ]
        }
      ],
      "source": [
        "print(X_train_smote.shape)"
      ]
    },
    {
      "cell_type": "code",
      "execution_count": 412,
      "metadata": {
        "colab": {
          "base_uri": "https://localhost:8080/"
        },
        "id": "QHiRrR3Jc9Uv",
        "outputId": "43a76b42-f7e8-41fe-b94c-950ecc64de62"
      },
      "outputs": [
        {
          "name": "stdout",
          "output_type": "stream",
          "text": [
            "(8278,)\n"
          ]
        }
      ],
      "source": [
        "print(y_train_smote.shape)"
      ]
    },
    {
      "cell_type": "code",
      "execution_count": 413,
      "metadata": {
        "colab": {
          "base_uri": "https://localhost:8080/"
        },
        "id": "lMS-DWO0dA17",
        "outputId": "578b3563-742e-436f-9158-2c3217ed1840"
      },
      "outputs": [
        {
          "name": "stdout",
          "output_type": "stream",
          "text": [
            "Churn\n",
            "0    4139\n",
            "1    4139\n",
            "Name: count, dtype: int64\n"
          ]
        }
      ],
      "source": [
        "print(y_train_smote.value_counts())"
      ]
    },
    {
      "cell_type": "markdown",
      "metadata": {
        "id": "paChOpy7dNV9"
      },
      "source": [
        "**5. Model Training**"
      ]
    },
    {
      "cell_type": "markdown",
      "metadata": {
        "id": "9XoFtHYxdW3n"
      },
      "source": [
        "Training with default hyperparameters"
      ]
    },
    {
      "cell_type": "code",
      "execution_count": 414,
      "metadata": {
        "id": "6zy42grTdEQI"
      },
      "outputs": [],
      "source": [
        "# dictionary of models\n",
        "\n",
        "models = {\n",
        "    \"Decision Tree\": DecisionTreeClassifier(random_state=101),\n",
        "    \"Random Forest\": RandomForestClassifier(random_state=101),\n",
        "    \"XGBoost\": XGBClassifier(random_state=101),\n",
        "    \"KNN\": KNeighborsClassifier(n_neighbors = 5),\n",
        "    \"Logistic Regression\": LogisticRegression(random_state=101, max_iter=10000),\n",
        "}"
      ]
    },
    {
      "cell_type": "markdown",
      "metadata": {},
      "source": [
        "we could have scaled data for logistic reg to decrease max_iter but it only gave 80% accuracy so we didn't do it. "
      ]
    },
    {
      "cell_type": "code",
      "execution_count": 415,
      "metadata": {},
      "outputs": [
        {
          "data": {
            "text/plain": [
              "dict_items([('Decision Tree', DecisionTreeClassifier(random_state=101)), ('Random Forest', RandomForestClassifier(random_state=101)), ('XGBoost', XGBClassifier(base_score=None, booster=None, callbacks=None,\n",
              "              colsample_bylevel=None, colsample_bynode=None,\n",
              "              colsample_bytree=None, device=None, early_stopping_rounds=None,\n",
              "              enable_categorical=False, eval_metric=None, feature_types=None,\n",
              "              feature_weights=None, gamma=None, grow_policy=None,\n",
              "              importance_type=None, interaction_constraints=None,\n",
              "              learning_rate=None, max_bin=None, max_cat_threshold=None,\n",
              "              max_cat_to_onehot=None, max_delta_step=None, max_depth=None,\n",
              "              max_leaves=None, min_child_weight=None, missing=nan,\n",
              "              monotone_constraints=None, multi_strategy=None, n_estimators=None,\n",
              "              n_jobs=None, num_parallel_tree=None, ...)), ('KNN', KNeighborsClassifier()), ('Logistic Regression', LogisticRegression(max_iter=10000, random_state=101))])"
            ]
          },
          "execution_count": 415,
          "metadata": {},
          "output_type": "execute_result"
        }
      ],
      "source": [
        "models.items()"
      ]
    },
    {
      "cell_type": "code",
      "execution_count": 416,
      "metadata": {
        "colab": {
          "base_uri": "https://localhost:8080/"
        },
        "id": "B3KGjoiWdkUY",
        "outputId": "9bd95a2a-51bc-4c86-dee4-cd7f8597ccfb"
      },
      "outputs": [
        {
          "name": "stdout",
          "output_type": "stream",
          "text": [
            "Training Decision Tree with default parameters\n",
            "Decision Tree cross-validation accuracy: 0.7971\n",
            "\n",
            "\n",
            "Training Random Forest with default parameters\n",
            "Random Forest cross-validation accuracy: 0.8520\n",
            "\n",
            "\n",
            "Training XGBoost with default parameters\n",
            "XGBoost cross-validation accuracy: 0.8478\n",
            "\n",
            "\n",
            "Training KNN with default parameters\n",
            "KNN cross-validation accuracy: 0.7706\n",
            "\n",
            "\n",
            "Training Logistic Regression with default parameters\n",
            "Logistic Regression cross-validation accuracy: 0.8056\n",
            "\n",
            "\n"
          ]
        }
      ],
      "source": [
        "from sklearn.model_selection import StratifiedKFold\n",
        "\n",
        "# dictionary to store the cross validation results\n",
        "cv_scores = {}\n",
        "\n",
        "# perform 5-fold cross validation for each model\n",
        "for model_name, model in models.items():\n",
        "  print(f\"Training {model_name} with default parameters\")\n",
        "  scores = cross_val_score(model, X_train_smote, y_train_smote, cv=StratifiedKFold(5, shuffle=True, random_state=100), scoring=\"accuracy\")\n",
        "  cv_scores[model_name] = scores\n",
        "  print(f\"{model_name} cross-validation accuracy: {np.mean(scores):.4f}\")\n",
        "  print(\"\\n\")"
      ]
    },
    {
      "cell_type": "markdown",
      "metadata": {},
      "source": [
        "We used \"cv=StratifiedKFold(5, shuffle=True, random_state=100)\" instead of just \"cv=5\" because we had imbalance Churn column with \"yes\">>\"no\". Therefore to keep a balance in ratio yes's and no's (same as our real data) in each fold. When we just used \"cv=5\" our cv_score first 2 folds had 10-15% less accuracy than others due to the imbalance in the folds. "
      ]
    },
    {
      "cell_type": "code",
      "execution_count": 417,
      "metadata": {
        "colab": {
          "base_uri": "https://localhost:8080/"
        },
        "id": "azUmCrtsd7X9",
        "outputId": "d74e6478-85a5-457b-a303-65d8c3ec1de7"
      },
      "outputs": [
        {
          "data": {
            "text/plain": [
              "{'Decision Tree': array([0.81702899, 0.7807971 , 0.79468599, 0.78912387, 0.80362538]),\n",
              " 'Random Forest': array([0.86775362, 0.84842995, 0.84842995, 0.8429003 , 0.85256798]),\n",
              " 'XGBoost': array([0.85929952, 0.84178744, 0.84722222, 0.84410876, 0.84652568]),\n",
              " 'KNN': array([0.78381643, 0.77838164, 0.74516908, 0.78429003, 0.76132931]),\n",
              " 'Logistic Regression': array([0.81884058, 0.79951691, 0.79347826, 0.81450151, 0.80181269])}"
            ]
          },
          "execution_count": 417,
          "metadata": {},
          "output_type": "execute_result"
        }
      ],
      "source": [
        "cv_scores"
      ]
    },
    {
      "cell_type": "markdown",
      "metadata": {
        "id": "GZHMA7qDfdhy"
      },
      "source": [
        "Random Forest gives the highest accuracy compared to other models with default parameters. (hence we proceed working with this model)"
      ]
    },
    {
      "cell_type": "code",
      "execution_count": 419,
      "metadata": {
        "id": "7Ryv2eVge7jo"
      },
      "outputs": [],
      "source": [
        "rfc = RandomForestClassifier(random_state=100)"
      ]
    },
    {
      "cell_type": "code",
      "execution_count": 420,
      "metadata": {
        "colab": {
          "base_uri": "https://localhost:8080/",
          "height": 80
        },
        "id": "LtSf0RDCfoGj",
        "outputId": "315c8fa4-9e37-47f7-ce47-4c93d6c52c2a"
      },
      "outputs": [
        {
          "data": {
            "text/html": [
              "<style>#sk-container-id-5 {\n",
              "  /* Definition of color scheme common for light and dark mode */\n",
              "  --sklearn-color-text: #000;\n",
              "  --sklearn-color-text-muted: #666;\n",
              "  --sklearn-color-line: gray;\n",
              "  /* Definition of color scheme for unfitted estimators */\n",
              "  --sklearn-color-unfitted-level-0: #fff5e6;\n",
              "  --sklearn-color-unfitted-level-1: #f6e4d2;\n",
              "  --sklearn-color-unfitted-level-2: #ffe0b3;\n",
              "  --sklearn-color-unfitted-level-3: chocolate;\n",
              "  /* Definition of color scheme for fitted estimators */\n",
              "  --sklearn-color-fitted-level-0: #f0f8ff;\n",
              "  --sklearn-color-fitted-level-1: #d4ebff;\n",
              "  --sklearn-color-fitted-level-2: #b3dbfd;\n",
              "  --sklearn-color-fitted-level-3: cornflowerblue;\n",
              "\n",
              "  /* Specific color for light theme */\n",
              "  --sklearn-color-text-on-default-background: var(--sg-text-color, var(--theme-code-foreground, var(--jp-content-font-color1, black)));\n",
              "  --sklearn-color-background: var(--sg-background-color, var(--theme-background, var(--jp-layout-color0, white)));\n",
              "  --sklearn-color-border-box: var(--sg-text-color, var(--theme-code-foreground, var(--jp-content-font-color1, black)));\n",
              "  --sklearn-color-icon: #696969;\n",
              "\n",
              "  @media (prefers-color-scheme: dark) {\n",
              "    /* Redefinition of color scheme for dark theme */\n",
              "    --sklearn-color-text-on-default-background: var(--sg-text-color, var(--theme-code-foreground, var(--jp-content-font-color1, white)));\n",
              "    --sklearn-color-background: var(--sg-background-color, var(--theme-background, var(--jp-layout-color0, #111)));\n",
              "    --sklearn-color-border-box: var(--sg-text-color, var(--theme-code-foreground, var(--jp-content-font-color1, white)));\n",
              "    --sklearn-color-icon: #878787;\n",
              "  }\n",
              "}\n",
              "\n",
              "#sk-container-id-5 {\n",
              "  color: var(--sklearn-color-text);\n",
              "}\n",
              "\n",
              "#sk-container-id-5 pre {\n",
              "  padding: 0;\n",
              "}\n",
              "\n",
              "#sk-container-id-5 input.sk-hidden--visually {\n",
              "  border: 0;\n",
              "  clip: rect(1px 1px 1px 1px);\n",
              "  clip: rect(1px, 1px, 1px, 1px);\n",
              "  height: 1px;\n",
              "  margin: -1px;\n",
              "  overflow: hidden;\n",
              "  padding: 0;\n",
              "  position: absolute;\n",
              "  width: 1px;\n",
              "}\n",
              "\n",
              "#sk-container-id-5 div.sk-dashed-wrapped {\n",
              "  border: 1px dashed var(--sklearn-color-line);\n",
              "  margin: 0 0.4em 0.5em 0.4em;\n",
              "  box-sizing: border-box;\n",
              "  padding-bottom: 0.4em;\n",
              "  background-color: var(--sklearn-color-background);\n",
              "}\n",
              "\n",
              "#sk-container-id-5 div.sk-container {\n",
              "  /* jupyter's `normalize.less` sets `[hidden] { display: none; }`\n",
              "     but bootstrap.min.css set `[hidden] { display: none !important; }`\n",
              "     so we also need the `!important` here to be able to override the\n",
              "     default hidden behavior on the sphinx rendered scikit-learn.org.\n",
              "     See: https://github.com/scikit-learn/scikit-learn/issues/21755 */\n",
              "  display: inline-block !important;\n",
              "  position: relative;\n",
              "}\n",
              "\n",
              "#sk-container-id-5 div.sk-text-repr-fallback {\n",
              "  display: none;\n",
              "}\n",
              "\n",
              "div.sk-parallel-item,\n",
              "div.sk-serial,\n",
              "div.sk-item {\n",
              "  /* draw centered vertical line to link estimators */\n",
              "  background-image: linear-gradient(var(--sklearn-color-text-on-default-background), var(--sklearn-color-text-on-default-background));\n",
              "  background-size: 2px 100%;\n",
              "  background-repeat: no-repeat;\n",
              "  background-position: center center;\n",
              "}\n",
              "\n",
              "/* Parallel-specific style estimator block */\n",
              "\n",
              "#sk-container-id-5 div.sk-parallel-item::after {\n",
              "  content: \"\";\n",
              "  width: 100%;\n",
              "  border-bottom: 2px solid var(--sklearn-color-text-on-default-background);\n",
              "  flex-grow: 1;\n",
              "}\n",
              "\n",
              "#sk-container-id-5 div.sk-parallel {\n",
              "  display: flex;\n",
              "  align-items: stretch;\n",
              "  justify-content: center;\n",
              "  background-color: var(--sklearn-color-background);\n",
              "  position: relative;\n",
              "}\n",
              "\n",
              "#sk-container-id-5 div.sk-parallel-item {\n",
              "  display: flex;\n",
              "  flex-direction: column;\n",
              "}\n",
              "\n",
              "#sk-container-id-5 div.sk-parallel-item:first-child::after {\n",
              "  align-self: flex-end;\n",
              "  width: 50%;\n",
              "}\n",
              "\n",
              "#sk-container-id-5 div.sk-parallel-item:last-child::after {\n",
              "  align-self: flex-start;\n",
              "  width: 50%;\n",
              "}\n",
              "\n",
              "#sk-container-id-5 div.sk-parallel-item:only-child::after {\n",
              "  width: 0;\n",
              "}\n",
              "\n",
              "/* Serial-specific style estimator block */\n",
              "\n",
              "#sk-container-id-5 div.sk-serial {\n",
              "  display: flex;\n",
              "  flex-direction: column;\n",
              "  align-items: center;\n",
              "  background-color: var(--sklearn-color-background);\n",
              "  padding-right: 1em;\n",
              "  padding-left: 1em;\n",
              "}\n",
              "\n",
              "\n",
              "/* Toggleable style: style used for estimator/Pipeline/ColumnTransformer box that is\n",
              "clickable and can be expanded/collapsed.\n",
              "- Pipeline and ColumnTransformer use this feature and define the default style\n",
              "- Estimators will overwrite some part of the style using the `sk-estimator` class\n",
              "*/\n",
              "\n",
              "/* Pipeline and ColumnTransformer style (default) */\n",
              "\n",
              "#sk-container-id-5 div.sk-toggleable {\n",
              "  /* Default theme specific background. It is overwritten whether we have a\n",
              "  specific estimator or a Pipeline/ColumnTransformer */\n",
              "  background-color: var(--sklearn-color-background);\n",
              "}\n",
              "\n",
              "/* Toggleable label */\n",
              "#sk-container-id-5 label.sk-toggleable__label {\n",
              "  cursor: pointer;\n",
              "  display: flex;\n",
              "  width: 100%;\n",
              "  margin-bottom: 0;\n",
              "  padding: 0.5em;\n",
              "  box-sizing: border-box;\n",
              "  text-align: center;\n",
              "  align-items: start;\n",
              "  justify-content: space-between;\n",
              "  gap: 0.5em;\n",
              "}\n",
              "\n",
              "#sk-container-id-5 label.sk-toggleable__label .caption {\n",
              "  font-size: 0.6rem;\n",
              "  font-weight: lighter;\n",
              "  color: var(--sklearn-color-text-muted);\n",
              "}\n",
              "\n",
              "#sk-container-id-5 label.sk-toggleable__label-arrow:before {\n",
              "  /* Arrow on the left of the label */\n",
              "  content: \"▸\";\n",
              "  float: left;\n",
              "  margin-right: 0.25em;\n",
              "  color: var(--sklearn-color-icon);\n",
              "}\n",
              "\n",
              "#sk-container-id-5 label.sk-toggleable__label-arrow:hover:before {\n",
              "  color: var(--sklearn-color-text);\n",
              "}\n",
              "\n",
              "/* Toggleable content - dropdown */\n",
              "\n",
              "#sk-container-id-5 div.sk-toggleable__content {\n",
              "  max-height: 0;\n",
              "  max-width: 0;\n",
              "  overflow: hidden;\n",
              "  text-align: left;\n",
              "  /* unfitted */\n",
              "  background-color: var(--sklearn-color-unfitted-level-0);\n",
              "}\n",
              "\n",
              "#sk-container-id-5 div.sk-toggleable__content.fitted {\n",
              "  /* fitted */\n",
              "  background-color: var(--sklearn-color-fitted-level-0);\n",
              "}\n",
              "\n",
              "#sk-container-id-5 div.sk-toggleable__content pre {\n",
              "  margin: 0.2em;\n",
              "  border-radius: 0.25em;\n",
              "  color: var(--sklearn-color-text);\n",
              "  /* unfitted */\n",
              "  background-color: var(--sklearn-color-unfitted-level-0);\n",
              "}\n",
              "\n",
              "#sk-container-id-5 div.sk-toggleable__content.fitted pre {\n",
              "  /* unfitted */\n",
              "  background-color: var(--sklearn-color-fitted-level-0);\n",
              "}\n",
              "\n",
              "#sk-container-id-5 input.sk-toggleable__control:checked~div.sk-toggleable__content {\n",
              "  /* Expand drop-down */\n",
              "  max-height: 200px;\n",
              "  max-width: 100%;\n",
              "  overflow: auto;\n",
              "}\n",
              "\n",
              "#sk-container-id-5 input.sk-toggleable__control:checked~label.sk-toggleable__label-arrow:before {\n",
              "  content: \"▾\";\n",
              "}\n",
              "\n",
              "/* Pipeline/ColumnTransformer-specific style */\n",
              "\n",
              "#sk-container-id-5 div.sk-label input.sk-toggleable__control:checked~label.sk-toggleable__label {\n",
              "  color: var(--sklearn-color-text);\n",
              "  background-color: var(--sklearn-color-unfitted-level-2);\n",
              "}\n",
              "\n",
              "#sk-container-id-5 div.sk-label.fitted input.sk-toggleable__control:checked~label.sk-toggleable__label {\n",
              "  background-color: var(--sklearn-color-fitted-level-2);\n",
              "}\n",
              "\n",
              "/* Estimator-specific style */\n",
              "\n",
              "/* Colorize estimator box */\n",
              "#sk-container-id-5 div.sk-estimator input.sk-toggleable__control:checked~label.sk-toggleable__label {\n",
              "  /* unfitted */\n",
              "  background-color: var(--sklearn-color-unfitted-level-2);\n",
              "}\n",
              "\n",
              "#sk-container-id-5 div.sk-estimator.fitted input.sk-toggleable__control:checked~label.sk-toggleable__label {\n",
              "  /* fitted */\n",
              "  background-color: var(--sklearn-color-fitted-level-2);\n",
              "}\n",
              "\n",
              "#sk-container-id-5 div.sk-label label.sk-toggleable__label,\n",
              "#sk-container-id-5 div.sk-label label {\n",
              "  /* The background is the default theme color */\n",
              "  color: var(--sklearn-color-text-on-default-background);\n",
              "}\n",
              "\n",
              "/* On hover, darken the color of the background */\n",
              "#sk-container-id-5 div.sk-label:hover label.sk-toggleable__label {\n",
              "  color: var(--sklearn-color-text);\n",
              "  background-color: var(--sklearn-color-unfitted-level-2);\n",
              "}\n",
              "\n",
              "/* Label box, darken color on hover, fitted */\n",
              "#sk-container-id-5 div.sk-label.fitted:hover label.sk-toggleable__label.fitted {\n",
              "  color: var(--sklearn-color-text);\n",
              "  background-color: var(--sklearn-color-fitted-level-2);\n",
              "}\n",
              "\n",
              "/* Estimator label */\n",
              "\n",
              "#sk-container-id-5 div.sk-label label {\n",
              "  font-family: monospace;\n",
              "  font-weight: bold;\n",
              "  display: inline-block;\n",
              "  line-height: 1.2em;\n",
              "}\n",
              "\n",
              "#sk-container-id-5 div.sk-label-container {\n",
              "  text-align: center;\n",
              "}\n",
              "\n",
              "/* Estimator-specific */\n",
              "#sk-container-id-5 div.sk-estimator {\n",
              "  font-family: monospace;\n",
              "  border: 1px dotted var(--sklearn-color-border-box);\n",
              "  border-radius: 0.25em;\n",
              "  box-sizing: border-box;\n",
              "  margin-bottom: 0.5em;\n",
              "  /* unfitted */\n",
              "  background-color: var(--sklearn-color-unfitted-level-0);\n",
              "}\n",
              "\n",
              "#sk-container-id-5 div.sk-estimator.fitted {\n",
              "  /* fitted */\n",
              "  background-color: var(--sklearn-color-fitted-level-0);\n",
              "}\n",
              "\n",
              "/* on hover */\n",
              "#sk-container-id-5 div.sk-estimator:hover {\n",
              "  /* unfitted */\n",
              "  background-color: var(--sklearn-color-unfitted-level-2);\n",
              "}\n",
              "\n",
              "#sk-container-id-5 div.sk-estimator.fitted:hover {\n",
              "  /* fitted */\n",
              "  background-color: var(--sklearn-color-fitted-level-2);\n",
              "}\n",
              "\n",
              "/* Specification for estimator info (e.g. \"i\" and \"?\") */\n",
              "\n",
              "/* Common style for \"i\" and \"?\" */\n",
              "\n",
              ".sk-estimator-doc-link,\n",
              "a:link.sk-estimator-doc-link,\n",
              "a:visited.sk-estimator-doc-link {\n",
              "  float: right;\n",
              "  font-size: smaller;\n",
              "  line-height: 1em;\n",
              "  font-family: monospace;\n",
              "  background-color: var(--sklearn-color-background);\n",
              "  border-radius: 1em;\n",
              "  height: 1em;\n",
              "  width: 1em;\n",
              "  text-decoration: none !important;\n",
              "  margin-left: 0.5em;\n",
              "  text-align: center;\n",
              "  /* unfitted */\n",
              "  border: var(--sklearn-color-unfitted-level-1) 1pt solid;\n",
              "  color: var(--sklearn-color-unfitted-level-1);\n",
              "}\n",
              "\n",
              ".sk-estimator-doc-link.fitted,\n",
              "a:link.sk-estimator-doc-link.fitted,\n",
              "a:visited.sk-estimator-doc-link.fitted {\n",
              "  /* fitted */\n",
              "  border: var(--sklearn-color-fitted-level-1) 1pt solid;\n",
              "  color: var(--sklearn-color-fitted-level-1);\n",
              "}\n",
              "\n",
              "/* On hover */\n",
              "div.sk-estimator:hover .sk-estimator-doc-link:hover,\n",
              ".sk-estimator-doc-link:hover,\n",
              "div.sk-label-container:hover .sk-estimator-doc-link:hover,\n",
              ".sk-estimator-doc-link:hover {\n",
              "  /* unfitted */\n",
              "  background-color: var(--sklearn-color-unfitted-level-3);\n",
              "  color: var(--sklearn-color-background);\n",
              "  text-decoration: none;\n",
              "}\n",
              "\n",
              "div.sk-estimator.fitted:hover .sk-estimator-doc-link.fitted:hover,\n",
              ".sk-estimator-doc-link.fitted:hover,\n",
              "div.sk-label-container:hover .sk-estimator-doc-link.fitted:hover,\n",
              ".sk-estimator-doc-link.fitted:hover {\n",
              "  /* fitted */\n",
              "  background-color: var(--sklearn-color-fitted-level-3);\n",
              "  color: var(--sklearn-color-background);\n",
              "  text-decoration: none;\n",
              "}\n",
              "\n",
              "/* Span, style for the box shown on hovering the info icon */\n",
              ".sk-estimator-doc-link span {\n",
              "  display: none;\n",
              "  z-index: 9999;\n",
              "  position: relative;\n",
              "  font-weight: normal;\n",
              "  right: .2ex;\n",
              "  padding: .5ex;\n",
              "  margin: .5ex;\n",
              "  width: min-content;\n",
              "  min-width: 20ex;\n",
              "  max-width: 50ex;\n",
              "  color: var(--sklearn-color-text);\n",
              "  box-shadow: 2pt 2pt 4pt #999;\n",
              "  /* unfitted */\n",
              "  background: var(--sklearn-color-unfitted-level-0);\n",
              "  border: .5pt solid var(--sklearn-color-unfitted-level-3);\n",
              "}\n",
              "\n",
              ".sk-estimator-doc-link.fitted span {\n",
              "  /* fitted */\n",
              "  background: var(--sklearn-color-fitted-level-0);\n",
              "  border: var(--sklearn-color-fitted-level-3);\n",
              "}\n",
              "\n",
              ".sk-estimator-doc-link:hover span {\n",
              "  display: block;\n",
              "}\n",
              "\n",
              "/* \"?\"-specific style due to the `<a>` HTML tag */\n",
              "\n",
              "#sk-container-id-5 a.estimator_doc_link {\n",
              "  float: right;\n",
              "  font-size: 1rem;\n",
              "  line-height: 1em;\n",
              "  font-family: monospace;\n",
              "  background-color: var(--sklearn-color-background);\n",
              "  border-radius: 1rem;\n",
              "  height: 1rem;\n",
              "  width: 1rem;\n",
              "  text-decoration: none;\n",
              "  /* unfitted */\n",
              "  color: var(--sklearn-color-unfitted-level-1);\n",
              "  border: var(--sklearn-color-unfitted-level-1) 1pt solid;\n",
              "}\n",
              "\n",
              "#sk-container-id-5 a.estimator_doc_link.fitted {\n",
              "  /* fitted */\n",
              "  border: var(--sklearn-color-fitted-level-1) 1pt solid;\n",
              "  color: var(--sklearn-color-fitted-level-1);\n",
              "}\n",
              "\n",
              "/* On hover */\n",
              "#sk-container-id-5 a.estimator_doc_link:hover {\n",
              "  /* unfitted */\n",
              "  background-color: var(--sklearn-color-unfitted-level-3);\n",
              "  color: var(--sklearn-color-background);\n",
              "  text-decoration: none;\n",
              "}\n",
              "\n",
              "#sk-container-id-5 a.estimator_doc_link.fitted:hover {\n",
              "  /* fitted */\n",
              "  background-color: var(--sklearn-color-fitted-level-3);\n",
              "}\n",
              "</style><div id=\"sk-container-id-5\" class=\"sk-top-container\"><div class=\"sk-text-repr-fallback\"><pre>RandomForestClassifier(random_state=100)</pre><b>In a Jupyter environment, please rerun this cell to show the HTML representation or trust the notebook. <br />On GitHub, the HTML representation is unable to render, please try loading this page with nbviewer.org.</b></div><div class=\"sk-container\" hidden><div class=\"sk-item\"><div class=\"sk-estimator fitted sk-toggleable\"><input class=\"sk-toggleable__control sk-hidden--visually\" id=\"sk-estimator-id-5\" type=\"checkbox\" checked><label for=\"sk-estimator-id-5\" class=\"sk-toggleable__label fitted sk-toggleable__label-arrow\"><div><div>RandomForestClassifier</div></div><div><a class=\"sk-estimator-doc-link fitted\" rel=\"noreferrer\" target=\"_blank\" href=\"https://scikit-learn.org/1.6/modules/generated/sklearn.ensemble.RandomForestClassifier.html\">?<span>Documentation for RandomForestClassifier</span></a><span class=\"sk-estimator-doc-link fitted\">i<span>Fitted</span></span></div></label><div class=\"sk-toggleable__content fitted\"><pre>RandomForestClassifier(random_state=100)</pre></div> </div></div></div></div>"
            ],
            "text/plain": [
              "RandomForestClassifier(random_state=100)"
            ]
          },
          "execution_count": 420,
          "metadata": {},
          "output_type": "execute_result"
        }
      ],
      "source": [
        "rfc.fit(X_train_smote, y_train_smote)"
      ]
    },
    {
      "cell_type": "code",
      "execution_count": 421,
      "metadata": {
        "colab": {
          "base_uri": "https://localhost:8080/"
        },
        "id": "Ps-zI6NFgEJg",
        "outputId": "9ece5fd7-2825-45de-ff6b-9fc6b4ec5c35"
      },
      "outputs": [
        {
          "name": "stdout",
          "output_type": "stream",
          "text": [
            "Churn\n",
            "0    1035\n",
            "1     374\n",
            "Name: count, dtype: int64\n"
          ]
        }
      ],
      "source": [
        "print(y_test.value_counts())"
      ]
    },
    {
      "cell_type": "markdown",
      "metadata": {
        "id": "GjsS6hgkfru0"
      },
      "source": [
        "**6. Model Evaluation**"
      ]
    },
    {
      "cell_type": "code",
      "execution_count": 422,
      "metadata": {
        "colab": {
          "base_uri": "https://localhost:8080/"
        },
        "id": "yQtGX6PngNJm",
        "outputId": "ad8ffbe2-514c-48b5-e6dd-ea9b9288a065"
      },
      "outputs": [
        {
          "name": "stdout",
          "output_type": "stream",
          "text": [
            "Accuracy Score:\n",
            " 0.7629524485450674\n",
            "Confsuion Matrix:\n",
            " [[865 170]\n",
            " [164 210]]\n",
            "Classification Report:\n",
            "               precision    recall  f1-score   support\n",
            "\n",
            "           0       0.84      0.84      0.84      1035\n",
            "           1       0.55      0.56      0.56       374\n",
            "\n",
            "    accuracy                           0.76      1409\n",
            "   macro avg       0.70      0.70      0.70      1409\n",
            "weighted avg       0.76      0.76      0.76      1409\n",
            "\n"
          ]
        }
      ],
      "source": [
        "# evaluate on test data\n",
        "y_test_pred = rfc.predict(X_test)\n",
        "\n",
        "print(\"Accuracy Score:\\n\", accuracy_score(y_test, y_test_pred))\n",
        "print(\"Confsuion Matrix:\\n\", confusion_matrix(y_test, y_test_pred))\n",
        "print(\"Classification Report:\\n\", classification_report(y_test, y_test_pred))"
      ]
    },
    {
      "cell_type": "code",
      "execution_count": 423,
      "metadata": {
        "id": "zssUNtcsgMLh"
      },
      "outputs": [],
      "source": [
        "# save the trained model as a pickle file\n",
        "model_data = {\"model\": rfc, \"features_names\": X.columns.tolist()}\n",
        "\n",
        "\n",
        "with open(\"customer_churn_model.pkl\", \"wb\") as f:\n",
        "  pickle.dump(model_data, f)"
      ]
    },
    {
      "cell_type": "markdown",
      "metadata": {
        "id": "vWVcq79lhHH4"
      },
      "source": [
        "**7. Load the saved  model and  build a Predictive System**"
      ]
    },
    {
      "cell_type": "code",
      "execution_count": 424,
      "metadata": {
        "id": "EHJUOCxAg_-W"
      },
      "outputs": [],
      "source": [
        "# load the saved model and the feature names\n",
        "\n",
        "with open(\"customer_churn_model.pkl\", \"rb\") as f:\n",
        "  model_data = pickle.load(f)\n",
        "\n",
        "loaded_model = model_data[\"model\"]\n",
        "feature_names = model_data[\"features_names\"]"
      ]
    },
    {
      "cell_type": "code",
      "execution_count": 425,
      "metadata": {
        "colab": {
          "base_uri": "https://localhost:8080/"
        },
        "id": "UkaI2oE3huq5",
        "outputId": "343386c6-aad8-4eac-a40d-9a38ef54023d"
      },
      "outputs": [
        {
          "name": "stdout",
          "output_type": "stream",
          "text": [
            "RandomForestClassifier(random_state=100)\n"
          ]
        }
      ],
      "source": [
        "print(loaded_model)"
      ]
    },
    {
      "cell_type": "code",
      "execution_count": 426,
      "metadata": {
        "colab": {
          "base_uri": "https://localhost:8080/"
        },
        "id": "a758RlNVh7Xe",
        "outputId": "1456a90a-2599-49ec-e894-7627d3f0f919"
      },
      "outputs": [
        {
          "name": "stdout",
          "output_type": "stream",
          "text": [
            "['gender', 'SeniorCitizen', 'Partner', 'Dependents', 'tenure', 'PhoneService', 'MultipleLines', 'InternetService', 'OnlineSecurity', 'OnlineBackup', 'DeviceProtection', 'TechSupport', 'StreamingTV', 'StreamingMovies', 'Contract', 'PaperlessBilling', 'PaymentMethod', 'MonthlyCharges', 'TotalCharges']\n"
          ]
        }
      ],
      "source": [
        "print(feature_names)"
      ]
    },
    {
      "cell_type": "code",
      "execution_count": 276,
      "metadata": {},
      "outputs": [
        {
          "data": {
            "text/plain": [
              "dict_items([('gender', LabelEncoder()), ('Partner', LabelEncoder()), ('Dependents', LabelEncoder()), ('PhoneService', LabelEncoder()), ('MultipleLines', LabelEncoder()), ('InternetService', LabelEncoder()), ('OnlineSecurity', LabelEncoder()), ('OnlineBackup', LabelEncoder()), ('DeviceProtection', LabelEncoder()), ('TechSupport', LabelEncoder()), ('StreamingTV', LabelEncoder()), ('StreamingMovies', LabelEncoder()), ('Contract', LabelEncoder()), ('PaperlessBilling', LabelEncoder()), ('PaymentMethod', LabelEncoder()), ('Churn', LabelEncoder())])"
            ]
          },
          "execution_count": 276,
          "metadata": {},
          "output_type": "execute_result"
        }
      ],
      "source": [
        "encoders.items()"
      ]
    },
    {
      "cell_type": "code",
      "execution_count": 431,
      "metadata": {
        "colab": {
          "base_uri": "https://localhost:8080/"
        },
        "collapsed": true,
        "id": "-zyAmZeyioWS",
        "outputId": "39751cc2-d16d-466c-af3a-c0b41a3219f0"
      },
      "outputs": [
        {
          "name": "stdout",
          "output_type": "stream",
          "text": [
            "[0]\n",
            "Prediction: No Churn\n",
            "Prediciton Probability: [[0.77 0.23]]\n"
          ]
        }
      ],
      "source": [
        "input_data = {\n",
        "    'gender': 'Female',\n",
        "    'SeniorCitizen': 0,\n",
        "    'Partner': 'Yes',\n",
        "    'Dependents': 'No',\n",
        "    'tenure': 1,\n",
        "    'PhoneService': 'No',\n",
        "    'MultipleLines': 'No phone service',\n",
        "    'InternetService': 'DSL',\n",
        "    'OnlineSecurity': 'No',\n",
        "    'OnlineBackup': 'Yes',\n",
        "    'DeviceProtection': 'No',\n",
        "    'TechSupport': 'No',\n",
        "    'StreamingTV': 'No',\n",
        "    'StreamingMovies': 'No',\n",
        "    'Contract': 'Month-to-month',\n",
        "    'PaperlessBilling': 'Yes',\n",
        "    'PaymentMethod': 'Electronic check',\n",
        "    'MonthlyCharges': 29.85,\n",
        "    'TotalCharges': 29.85,\n",
        "}\n",
        "\n",
        "\n",
        "input_data_df = pd.DataFrame([input_data])\n",
        "\n",
        "with open(\"encoders.pkl\", \"rb\") as f:\n",
        "  encoders = pickle.load(f)\n",
        "\n",
        "\n",
        "# encode categorical featires using the saved encoders\n",
        "for column, encoder in encoders.items():\n",
        "  input_data_df[column] = encoder.transform(input_data_df[column])\n",
        "\n",
        "# make a prediction\n",
        "prediction = loaded_model.predict(input_data_df)\n",
        "pred_prob = loaded_model.predict_proba(input_data_df)\n",
        "\n",
        "print(prediction)\n",
        "\n",
        "# results\n",
        "print(f\"Prediction: {'Churn' if prediction[0] == 1 else 'No Churn'}\")\n",
        "print(f\"Prediciton Probability: {pred_prob}\")"
      ]
    },
    {
      "cell_type": "markdown",
      "metadata": {
        "id": "wvQG7N02lKFV"
      },
      "source": [
        "**Finished**"
      ]
    },
    {
      "cell_type": "code",
      "execution_count": null,
      "metadata": {
        "id": "KISMEReNjeC4"
      },
      "outputs": [],
      "source": []
    }
  ],
  "metadata": {
    "colab": {
      "provenance": []
    },
    "kernelspec": {
      "display_name": "venv",
      "language": "python",
      "name": "python3"
    },
    "language_info": {
      "codemirror_mode": {
        "name": "ipython",
        "version": 3
      },
      "file_extension": ".py",
      "mimetype": "text/x-python",
      "name": "python",
      "nbconvert_exporter": "python",
      "pygments_lexer": "ipython3",
      "version": "3.13.0"
    }
  },
  "nbformat": 4,
  "nbformat_minor": 0
}
